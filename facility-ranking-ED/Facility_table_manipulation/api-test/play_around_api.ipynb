{
 "cells": [
  {
   "cell_type": "code",
   "execution_count": 1,
   "id": "f38fdc79-416f-4f94-8399-0dde10c731ca",
   "metadata": {
    "tags": []
   },
   "outputs": [],
   "source": [
    "import requests\n",
    "import json\n",
    "from IPython.display import JSON\n",
    "from datetime import datetime\n",
    "import pandas as pd\n",
    "from difflib import get_close_matches"
   ]
  },
  {
   "cell_type": "code",
   "execution_count": 2,
   "id": "43b0cd82-ef9d-4af8-aea2-5f78d3b4e077",
   "metadata": {
    "tags": []
   },
   "outputs": [
    {
     "data": {
      "text/html": [
       "<div>\n",
       "<style scoped>\n",
       "    .dataframe tbody tr th:only-of-type {\n",
       "        vertical-align: middle;\n",
       "    }\n",
       "\n",
       "    .dataframe tbody tr th {\n",
       "        vertical-align: top;\n",
       "    }\n",
       "\n",
       "    .dataframe thead th {\n",
       "        text-align: right;\n",
       "    }\n",
       "</style>\n",
       "<table border=\"1\" class=\"dataframe\">\n",
       "  <thead>\n",
       "    <tr style=\"text-align: right;\">\n",
       "      <th></th>\n",
       "      <th>county</th>\n",
       "      <th>date</th>\n",
       "      <th>Code</th>\n",
       "    </tr>\n",
       "  </thead>\n",
       "  <tbody>\n",
       "    <tr>\n",
       "      <th>0</th>\n",
       "      <td>Isiolo</td>\n",
       "      <td>23/01/2023</td>\n",
       "      <td>11</td>\n",
       "    </tr>\n",
       "    <tr>\n",
       "      <th>1</th>\n",
       "      <td>Isiolo</td>\n",
       "      <td>31/10/2018</td>\n",
       "      <td>11</td>\n",
       "    </tr>\n",
       "    <tr>\n",
       "      <th>2</th>\n",
       "      <td>Marsabit</td>\n",
       "      <td>24/01/2023</td>\n",
       "      <td>10</td>\n",
       "    </tr>\n",
       "    <tr>\n",
       "      <th>3</th>\n",
       "      <td>Uasin Gishu</td>\n",
       "      <td>27/01/2023</td>\n",
       "      <td>27</td>\n",
       "    </tr>\n",
       "    <tr>\n",
       "      <th>4</th>\n",
       "      <td>Uasin Gishu</td>\n",
       "      <td>26/07/2022</td>\n",
       "      <td>27</td>\n",
       "    </tr>\n",
       "  </tbody>\n",
       "</table>\n",
       "</div>"
      ],
      "text/plain": [
       "        county        date  Code\n",
       "0       Isiolo  23/01/2023    11\n",
       "1       Isiolo  31/10/2018    11\n",
       "2     Marsabit  24/01/2023    10\n",
       "3  Uasin Gishu  27/01/2023    27\n",
       "4  Uasin Gishu  26/07/2022    27"
      ]
     },
     "execution_count": 2,
     "metadata": {},
     "output_type": "execute_result"
    }
   ],
   "source": [
    "dataframes = pd.read_csv('clean_advocacy.csv')\n",
    "dataframes.head()"
   ]
  },
  {
   "cell_type": "code",
   "execution_count": 3,
   "id": "acc07f48-938e-49ac-af44-52b860ac15eb",
   "metadata": {},
   "outputs": [],
   "source": [
    "county_meetings = dataframes.drop('Code', axis=1)\n",
    "county_meetings['date'] = pd.to_datetime(county_meetings.date, dayfirst=True)"
   ]
  },
  {
   "cell_type": "code",
   "execution_count": 4,
   "id": "f675f435-a0a2-4007-8d15-a27b27d00017",
   "metadata": {
    "tags": []
   },
   "outputs": [
    {
     "data": {
      "text/html": [
       "<div>\n",
       "<style scoped>\n",
       "    .dataframe tbody tr th:only-of-type {\n",
       "        vertical-align: middle;\n",
       "    }\n",
       "\n",
       "    .dataframe tbody tr th {\n",
       "        vertical-align: top;\n",
       "    }\n",
       "\n",
       "    .dataframe thead th {\n",
       "        text-align: right;\n",
       "    }\n",
       "</style>\n",
       "<table border=\"1\" class=\"dataframe\">\n",
       "  <thead>\n",
       "    <tr style=\"text-align: right;\">\n",
       "      <th></th>\n",
       "      <th>county</th>\n",
       "      <th>date</th>\n",
       "    </tr>\n",
       "  </thead>\n",
       "  <tbody>\n",
       "    <tr>\n",
       "      <th>47</th>\n",
       "      <td>Garissa</td>\n",
       "      <td>2021-06-03</td>\n",
       "    </tr>\n",
       "    <tr>\n",
       "      <th>51</th>\n",
       "      <td>Kisumu</td>\n",
       "      <td>2022-04-06</td>\n",
       "    </tr>\n",
       "    <tr>\n",
       "      <th>102</th>\n",
       "      <td>Trans Nzoia</td>\n",
       "      <td>2018-10-10</td>\n",
       "    </tr>\n",
       "    <tr>\n",
       "      <th>38</th>\n",
       "      <td>Nyeri</td>\n",
       "      <td>2022-02-17</td>\n",
       "    </tr>\n",
       "    <tr>\n",
       "      <th>62</th>\n",
       "      <td>Kilifi</td>\n",
       "      <td>2018-07-26</td>\n",
       "    </tr>\n",
       "  </tbody>\n",
       "</table>\n",
       "</div>"
      ],
      "text/plain": [
       "          county       date\n",
       "47       Garissa 2021-06-03\n",
       "51        Kisumu 2022-04-06\n",
       "102  Trans Nzoia 2018-10-10\n",
       "38         Nyeri 2022-02-17\n",
       "62        Kilifi 2018-07-26"
      ]
     },
     "execution_count": 4,
     "metadata": {},
     "output_type": "execute_result"
    }
   ],
   "source": [
    "county_meetings.sample(5)"
   ]
  },
  {
   "cell_type": "code",
   "execution_count": 5,
   "id": "747a6934-387e-44fa-bfd5-a4773dc208e1",
   "metadata": {
    "tags": []
   },
   "outputs": [],
   "source": [
    "county_meetings = county_meetings.query('date < 20230501')"
   ]
  },
  {
   "cell_type": "code",
   "execution_count": 6,
   "id": "57b757ac-b080-4c7d-82b0-a6034168465a",
   "metadata": {
    "tags": []
   },
   "outputs": [],
   "source": [
    "# You can find most of this code in the \"Zoho API orchestration\" notebook\n",
    "# I will add more information in these lines for you to understand better what the code does.\n",
    "import requests\n",
    "import json\n",
    "# get_close_matches function helps me match strings which are typed in slightly different manners\n",
    "from difflib import get_close_matches"
   ]
  },
  {
   "cell_type": "code",
   "execution_count": 7,
   "id": "c0e03174-1879-42cc-8d2b-094b10dc419b",
   "metadata": {
    "tags": []
   },
   "outputs": [],
   "source": [
    "with open('./self_client.json') as client_info, open('./portals_info.json') as portals_info, open('./refresh_tokens.json') as tokens_file:\n",
    "    client_app_data = json.load(client_info)\n",
    "    zoho_portals_data = json.load(portals_info)\n",
    "    tokens_dict = json.load(tokens_file)"
   ]
  },
  {
   "cell_type": "code",
   "execution_count": 8,
   "id": "a010b015-2f48-4a10-b545-b84971c3476d",
   "metadata": {},
   "outputs": [],
   "source": [
    "payload = {\n",
    "    'grant_type':'authorization_code',\n",
    "    'client_id':client_app_data['client_id'],\n",
    "    'client_secret':client_app_data['client_secret'],\n",
    "    'code':client_app_data['code'],\n",
    "    'redirect_uri':''\n",
    "}"
   ]
  },
  {
   "cell_type": "code",
   "execution_count": 9,
   "id": "ebc3d2a0-b706-4f8d-a230-637830d706b7",
   "metadata": {},
   "outputs": [],
   "source": [
    "TOKEN_URI = 'https://accounts.zoho.com/oauth/v2/token'\n",
    "PROJECTS_API_URI = f'https://projectsapi.zoho.com/restapi/portal/{zoho_portals_data[\"projects_portal_id\"]}/projects/'\n",
    "# BOOKS_API_URI = 'https://www.zohoapis.com/books/v3'\n",
    "CRM_APU_URI = 'https://www.zohoapis.com/crm/v4'"
   ]
  },
  {
   "cell_type": "code",
   "execution_count": 18,
   "id": "f430e28b-7f4d-4268-b1de-836dee0221af",
   "metadata": {
    "tags": []
   },
   "outputs": [
    {
     "name": "stdout",
     "output_type": "stream",
     "text": [
      "access_token <Response [200]>\n"
     ]
    },
    {
     "ename": "KeyError",
     "evalue": "'access_token'",
     "output_type": "error",
     "traceback": [
      "\u001b[1;31m---------------------------------------------------------------------------\u001b[0m",
      "\u001b[1;31mKeyError\u001b[0m                                  Traceback (most recent call last)",
      "Cell \u001b[1;32mIn[18], line 22\u001b[0m\n\u001b[0;32m     19\u001b[0m \u001b[38;5;66;03m# Create app specific session\u001b[39;00m\n\u001b[0;32m     20\u001b[0m s \u001b[38;5;241m=\u001b[39m requests\u001b[38;5;241m.\u001b[39msession()\n\u001b[0;32m     21\u001b[0m s\u001b[38;5;241m.\u001b[39mheaders \u001b[38;5;241m=\u001b[39m {\n\u001b[1;32m---> 22\u001b[0m     \u001b[38;5;124m'\u001b[39m\u001b[38;5;124mAuthorization\u001b[39m\u001b[38;5;124m'\u001b[39m:\u001b[38;5;124mf\u001b[39m\u001b[38;5;124m'\u001b[39m\u001b[38;5;124mBearer \u001b[39m\u001b[38;5;132;01m{\u001b[39;00mrefresh_response\u001b[38;5;241m.\u001b[39mjson()[\u001b[38;5;124m\"\u001b[39m\u001b[38;5;124maccess_token\u001b[39m\u001b[38;5;124m\"\u001b[39m]\u001b[38;5;132;01m}\u001b[39;00m\u001b[38;5;124m'\u001b[39m\n\u001b[0;32m     23\u001b[0m }\n\u001b[0;32m     24\u001b[0m \u001b[38;5;66;03m# Store in sessions dict\u001b[39;00m\n\u001b[0;32m     25\u001b[0m zoho_apps_api_sessions[scope] \u001b[38;5;241m=\u001b[39m s\n",
      "\u001b[1;31mKeyError\u001b[0m: 'access_token'"
     ]
    }
   ],
   "source": [
    "# Often, I work in different zoho Applications at the same time.\n",
    "# Each application requires different requests headers. To make my life easier, I create a requests\n",
    "# session for each application and store all of them in zoho_apps_api_sessions.\n",
    "# For example, when I need to work with Zoho Books api, I will take the Zoho books session.\n",
    "zoho_apps_api_sessions = tokens_dict['tokens'].copy()\n",
    "\n",
    "refresh_payload = {\n",
    "    'grant_type':'refresh_token',\n",
    "    'client_id':client_app_data['client_id'],\n",
    "    'client_secret':client_app_data['client_secret']\n",
    "}\n",
    "\n",
    "# All sessions need to be refreshed every now and then\n",
    "for scope, refresh_token in tokens_dict['tokens'].items():\n",
    "    refresh_payload['refresh_token'] = refresh_token\n",
    "    refresh_response = requests.post(TOKEN_URI, data=refresh_payload)\n",
    "    print(scope, refresh_response)\n",
    "    \n",
    "    # Create app specific session\n",
    "    s = requests.session()\n",
    "    s.headers = {\n",
    "        'Authorization':f'Bearer {refresh_response.json()[\"access_token\"]}'\n",
    "    }\n",
    "    # Store in sessions dict\n",
    "    zoho_apps_api_sessions[scope] = s"
   ]
  },
  {
   "cell_type": "code",
   "execution_count": null,
   "id": "edba7c62-50bd-4ff8-8afc-6c8f305e7632",
   "metadata": {
    "tags": []
   },
   "outputs": [],
   "source": []
  },
  {
   "cell_type": "code",
   "execution_count": null,
   "id": "1c750875-ee30-4eb0-b322-aca67024d840",
   "metadata": {},
   "outputs": [],
   "source": []
  }
 ],
 "metadata": {
  "kernelspec": {
   "display_name": "Python 3 (ipykernel)",
   "language": "python",
   "name": "python3"
  },
  "language_info": {
   "codemirror_mode": {
    "name": "ipython",
    "version": 3
   },
   "file_extension": ".py",
   "mimetype": "text/x-python",
   "name": "python",
   "nbconvert_exporter": "python",
   "pygments_lexer": "ipython3",
   "version": "3.11.3"
  },
  "toc-autonumbering": false,
  "toc-showcode": true,
  "toc-showmarkdowntxt": true,
  "toc-showtags": true
 },
 "nbformat": 4,
 "nbformat_minor": 5
}
