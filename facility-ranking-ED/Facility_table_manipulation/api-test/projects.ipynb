{
 "cells": [
  {
   "cell_type": "code",
   "execution_count": null,
   "id": "0ad738a3-9f76-46f1-a6a0-37b05e7fa539",
   "metadata": {
    "tags": []
   },
   "outputs": [],
   "source": [
    "import requests\n",
    "import time"
   ]
  },
  {
   "cell_type": "code",
   "execution_count": null,
   "id": "8076512c-3b1e-4444-a4c3-e784d9963e62",
   "metadata": {
    "tags": []
   },
   "outputs": [],
   "source": [
    "# Replace with your actual client ID, client secret, and redirect URI\n",
    "client_id = '1000.JOA5DQ91QR7TO642KUU6SE28VJVWFF'\n",
    "client_secret = '3c33059bb9a207afafbc4ef2aecc5d3d956746e54c'\n",
    "redirect_uri = ''\n",
    "print(\"working\")"
   ]
  },
  {
   "cell_type": "code",
   "execution_count": null,
   "id": "6c7a2429-70e8-425f-a7a9-c730364880cd",
   "metadata": {
    "tags": []
   },
   "outputs": [],
   "source": [
    "# Step 1: Get the authorization code (manual step)\n",
    "authorization_code = '1000.e5998130856665248b188d1b14093d60.25bda73ae5aaf089c56756cf0ad0c315'\n",
    "\n",
    "# Function to obtain new access token using refresh token\n",
    "def refresh_access_token(refresh_token):\n",
    "    refresh_token_url = 'https://accounts.zoho.com/oauth/v2/token'\n",
    "    refresh_token_params = {\n",
    "        'refresh_token': refresh_token,\n",
    "        'client_id': client_id,\n",
    "        'client_secret': client_secret,\n",
    "        'grant_type': 'refresh_token'\n",
    "    }\n",
    "    response = requests.post(refresh_token_url, data=refresh_token_params)\n",
    "    response_data = response.json()\n",
    "    print(response_data)\n",
    "    return response_data.get('access_token')\n",
    "    print(refresh_token)\n",
    "    print(response_data)\n"
   ]
  },
  {
   "cell_type": "code",
   "execution_count": null,
   "id": "35996ca3-334d-4c2d-b867-62014ddf1988",
   "metadata": {
    "tags": []
   },
   "outputs": [],
   "source": [
    "# Step 2: Use authorization code to obtain access and refresh tokens\n",
    "token_url = 'https://accounts.zoho.com/oauth/v2/token'\n",
    "token_params = {\n",
    "    'code': authorization_code,\n",
    "    'redirect_uri': redirect_uri,\n",
    "    'client_id': client_id,\n",
    "    'client_secret': client_secret,\n",
    "    'grant_type': 'authorization_code'\n",
    "}\n",
    "\n",
    "# Make a POST request to obtain tokens\n",
    "response = requests.post(token_url, data=token_params)\n",
    "response_data = response.json()\n",
    "print(response_data)\n",
    "\n",
    "# Extract access token and refresh token\n",
    "access_token = response_data['access_token']\n",
    "refresh_token = response_data['refresh_token']\n"
   ]
  },
  {
   "cell_type": "code",
   "execution_count": null,
   "id": "c68e0ab3-b6b2-4d09-b49c-fea040eed6e2",
   "metadata": {},
   "outputs": [],
   "source": [
    "# Step 3: Use access token to interact with API\n",
    "headers = {\n",
    "    'Authorization': f'Bearer {access_token}'\n",
    "}\n",
    "\n",
    "# Example: Get details of all projects\n",
    "# /restapi/portal/\n",
    "projects_url = 'https://projectsapi.zoho.com/restapi/portals/801371474/projects/'\n",
    "response = requests.get(projects_url, headers=headers)\n",
    "projects_data = response.json()\n",
    "print(projects_data)\n",
    "# Example: Edit a project (replace 'project_id' with the actual project ID)\n",
    "edit_project_url = f'https://projectsapi.zoho.com/restapi/projects/{2072013000000870003}'\n",
    "edit_data = {\n",
    "    # Include the fields you want to update\n",
    "    'project_name': 'Updated Project Name',\n",
    "    # ...\n",
    "}\n",
    "response = requests.put(edit_project_url, headers=headers, json=edit_data)\n",
    "\n",
    "print(response)"
   ]
  },
  {
   "cell_type": "code",
   "execution_count": null,
   "id": "f3ee7fc8-8707-45c2-a9eb-fa53c6b44423",
   "metadata": {},
   "outputs": [],
   "source": [
    "# Example: Post a new project\n",
    "post_project_url = 'https://projectsapi.zoho.com/restapi/projects'\n",
    "post_data = {\n",
    "    'project_name': 'New Project',\n",
    "    # Include other project details\n",
    "}\n",
    "\n",
    "# Auto-refresh access token if it has expired\n",
    "current_time = time.time()\n",
    "expiration_time = current_time + response_data['expires_in']\n",
    "\n",
    "while True:\n",
    "    if time.time() >= expiration_time:\n",
    "        new_access_token = refresh_access_token(refresh_token)\n",
    "        headers['Authorization'] = f'Bearer {new_access_token}'\n",
    "        expiration_time = time.time() + response_data['expires_in']\n",
    "    # Your code to perform API requests here\n",
    "    # ...\n",
    "    time.sleep(5)  # Delay to prevent excessive token refreshing\n"
   ]
  }
 ],
 "metadata": {
  "kernelspec": {
   "display_name": "Python 3 (ipykernel)",
   "language": "python",
   "name": "python3"
  },
  "language_info": {
   "codemirror_mode": {
    "name": "ipython",
    "version": 3
   },
   "file_extension": ".py",
   "mimetype": "text/x-python",
   "name": "python",
   "nbconvert_exporter": "python",
   "pygments_lexer": "ipython3",
   "version": "3.11.3"
  }
 },
 "nbformat": 4,
 "nbformat_minor": 5
}
