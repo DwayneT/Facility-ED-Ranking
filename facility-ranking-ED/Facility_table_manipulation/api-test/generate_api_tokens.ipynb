{
 "cells": [
  {
   "cell_type": "code",
   "execution_count": null,
   "id": "bae7a5e4-7974-430b-91a4-ca1747a4a7d9",
   "metadata": {
    "tags": []
   },
   "outputs": [],
   "source": [
    "import json\n",
    "import requests"
   ]
  },
  {
   "cell_type": "code",
   "execution_count": null,
   "id": "d981cba3-b765-4f52-95fd-2bfbac3f56b9",
   "metadata": {
    "tags": []
   },
   "outputs": [],
   "source": [
    "generative_token = '1000.2d20a1cbe47555ed8acda367a5080c88.af3b6af6b955948e448516422ed22703'\n",
    "TOKEN_URI = 'https://accounts.zoho.com/oauth/v2/token'"
   ]
  },
  {
   "cell_type": "code",
   "execution_count": null,
   "id": "7e225315-df00-45eb-81a7-d92f8e5968f3",
   "metadata": {
    "tags": []
   },
   "outputs": [],
   "source": [
    "with open('./data/self_client.json') as client_info, open('./data/portals_info.json') as portals_info, open('./data/refresh_tokens.json') as tokens_file:\n",
    "    client_app_data = json.load(client_info)\n",
    "    zoho_portals_data = json.load(portals_info)\n",
    "    tokens_dict = json.load(tokens_file)"
   ]
  },
  {
   "cell_type": "code",
   "execution_count": null,
   "id": "0af6ece9-db2e-4094-b18b-28ead70d610e",
   "metadata": {
    "tags": []
   },
   "outputs": [],
   "source": [
    "payload = {\n",
    "    'grant_type':'authorization_code',\n",
    "    'client_id':client_app_data['client_id'],\n",
    "    'client_secret':client_app_data['client_secret'],\n",
    "    'code':generative_token,\n",
    "    'redirect_uri':''\n",
    "}"
   ]
  },
  {
   "cell_type": "code",
   "execution_count": null,
   "id": "09e21ce5-52e8-47e6-a9b7-3020bf3eac2e",
   "metadata": {
    "tags": []
   },
   "outputs": [],
   "source": [
    "gen_token_response = requests.post(TOKEN_URI, data=payload)"
   ]
  },
  {
   "cell_type": "code",
   "execution_count": null,
   "id": "244d7eb8-f7d8-437c-93fa-2e574d8a1fd9",
   "metadata": {
    "tags": []
   },
   "outputs": [],
   "source": [
    "gen_token_response.json()"
   ]
  }
 ],
 "metadata": {
  "kernelspec": {
   "display_name": "Python 3 (ipykernel)",
   "language": "python",
   "name": "python3"
  },
  "language_info": {
   "codemirror_mode": {
    "name": "ipython",
    "version": 3
   },
   "file_extension": ".py",
   "mimetype": "text/x-python",
   "name": "python",
   "nbconvert_exporter": "python",
   "pygments_lexer": "ipython3",
   "version": "3.11.3"
  }
 },
 "nbformat": 4,
 "nbformat_minor": 5
}
