{
 "cells": [
  {
   "cell_type": "raw",
   "id": "b5bba6d9-0d46-481b-90fb-29ae789cad29",
   "metadata": {},
   "source": [
    "# Populating the Advocacy dashboard\n",
    "## Purpose of this notebook\n",
    "This notebook should be used to understand how the advocacy dashboard was populated with old data.\n",
    "\n",
    "The old data could have been manually inserted into our Zoho Projects portal, but that would\n",
    "1. Take a long time\n",
    "2. Not be able to scale\n",
    "\n",
    "In the second point I mean that, if you are able to import the data systematically instead of manually, you are able to larger changes in the zoho system, faster.\n",
    "\n",
    "## Procedure\n",
    "- First we need to understand how the dashboard gets updated by inspecting the underlying Zoho Analytics tables.\n",
    "- After we understand that, we have to establish in which format the data will be imported.\n",
    "- Then, we create the data in the format we need and insert it in the system via the API.\n",
    "- We inject the data in Zoho Projects via API\n",
    "- Lastly, we check if the data is inserted correctly and updates the dashboard."
   ]
  },
  {
   "cell_type": "markdown",
   "id": "a6965b51-510c-49dc-a842-4258a57b384d",
   "metadata": {
    "jp-MarkdownHeadingCollapsed": true,
    "tags": []
   },
   "source": [
    "## Understand the dashboard\n",
    "\n",
    "There are three important factors which should be understood: how county meetings are counted, how finished policy emc plans are counted, and how EMC workshop coverage is counted.\n",
    "\n",
    "1) County meetings: the Report filters the _projects_ table on projects containing _county meeting_ in their name.\n",
    "2) Finalized EMC plans: the Report uses only one clean table _counties-emc-plan-final-version-completed_. The SQL code of that table should be self explanatory.\n",
    "3) Workshop coverage: the Report uses only one table _emc-workshopped-counties_. The SQL code of that table should be self explanatory."
   ]
  },
  {
   "cell_type": "markdown",
   "id": "f011ddf1-7b0d-47d7-b664-e1c25b3bcd25",
   "metadata": {},
   "source": [
    "## Establish format\n",
    "A table needs to be created where each row is a county meetigns or EMC workshops.\n",
    "\n",
    "Each of these rows can be used to send an API call that creates a project based on the county meeting and EMC workshop templates."
   ]
  },
  {
   "cell_type": "markdown",
   "id": "565b0b10-9b6c-457f-987c-a50a5d7fe024",
   "metadata": {},
   "source": [
    "## Creating the data\n",
    "\n",
    "Let's take the old data and rework it into a single table"
   ]
  },
  {
   "cell_type": "code",
   "execution_count": 1,
   "id": "546ec781-e86b-4893-94a8-a40a22b39bc2",
   "metadata": {},
   "outputs": [],
   "source": [
    "# I have a custom module called dataload that helps me load all tables from a certain data folder\n",
    "import pandas as pd\n",
    "import os\n",
    "import sys\n",
    "sys.path.append(os.environ['pythonemkfdata'])\n",
    "import dataload\n",
    "import time\n",
    "\n",
    "dataframes = dataload.load_emkf_data()"
   ]
  },
  {
   "cell_type": "code",
   "execution_count": 13,
   "id": "1dfb2a3b-fd00-484b-8203-577554d565fe",
   "metadata": {},
   "outputs": [],
   "source": [
    "# The county_meetings table is already clean. I created it for the dummy dashboards\n",
    "county_meetings = dataframes['county_meetings'].drop('Code', axis=1)"
   ]
  },
  {
   "cell_type": "code",
   "execution_count": 14,
   "id": "0f836593-dc94-4d7c-9601-c6a7d140a5a1",
   "metadata": {},
   "outputs": [],
   "source": [
    "county_meetings['date'] = pd.to_datetime(county_meetings.date, dayfirst=True)"
   ]
  },
  {
   "cell_type": "code",
   "execution_count": 15,
   "id": "dfd11886-b549-4657-a0e2-1ffee6e073ac",
   "metadata": {},
   "outputs": [
    {
     "data": {
      "text/html": [
       "<div>\n",
       "<style scoped>\n",
       "    .dataframe tbody tr th:only-of-type {\n",
       "        vertical-align: middle;\n",
       "    }\n",
       "\n",
       "    .dataframe tbody tr th {\n",
       "        vertical-align: top;\n",
       "    }\n",
       "\n",
       "    .dataframe thead th {\n",
       "        text-align: right;\n",
       "    }\n",
       "</style>\n",
       "<table border=\"1\" class=\"dataframe\">\n",
       "  <thead>\n",
       "    <tr style=\"text-align: right;\">\n",
       "      <th></th>\n",
       "      <th>county</th>\n",
       "      <th>date</th>\n",
       "    </tr>\n",
       "  </thead>\n",
       "  <tbody>\n",
       "    <tr>\n",
       "      <th>45</th>\n",
       "      <td>Lamu</td>\n",
       "      <td>2019-08-22</td>\n",
       "    </tr>\n",
       "    <tr>\n",
       "      <th>91</th>\n",
       "      <td>Nakuru</td>\n",
       "      <td>2019-01-25</td>\n",
       "    </tr>\n",
       "    <tr>\n",
       "      <th>64</th>\n",
       "      <td>Tana River</td>\n",
       "      <td>2022-10-12</td>\n",
       "    </tr>\n",
       "    <tr>\n",
       "      <th>95</th>\n",
       "      <td>Mandera</td>\n",
       "      <td>2019-04-08</td>\n",
       "    </tr>\n",
       "    <tr>\n",
       "      <th>49</th>\n",
       "      <td>Vihiga</td>\n",
       "      <td>2022-04-05</td>\n",
       "    </tr>\n",
       "  </tbody>\n",
       "</table>\n",
       "</div>"
      ],
      "text/plain": [
       "        county       date\n",
       "45        Lamu 2019-08-22\n",
       "91      Nakuru 2019-01-25\n",
       "64  Tana River 2022-10-12\n",
       "95     Mandera 2019-04-08\n",
       "49      Vihiga 2022-04-05"
      ]
     },
     "execution_count": 15,
     "metadata": {},
     "output_type": "execute_result"
    }
   ],
   "source": [
    "county_meetings.sample(5)"
   ]
  },
  {
   "cell_type": "markdown",
   "id": "5bb9f77c-f24b-42f6-b783-ed091b60af23",
   "metadata": {},
   "source": [
    "Note that there are some county meetings already in Zoho Projects. We will only import the ones that are older than the month of May 2023"
   ]
  },
  {
   "cell_type": "code",
   "execution_count": 66,
   "id": "6d4c873b-921d-4138-a68d-f98d7032cb25",
   "metadata": {},
   "outputs": [],
   "source": [
    "county_meetings = county_meetings.query('date < 20230501')"
   ]
  },
  {
   "cell_type": "markdown",
   "id": "f63e6b8b-2d50-4c7b-9278-c1acd4204832",
   "metadata": {},
   "source": [
    "We now have a list of county meetings that can be imported in the API.\n",
    "\n",
    "The old data for EMC plans is not very clear. There is a _Final EMC approval plan (YEAR)_ which is not helpful in our case. We need to coordinate with Programs and Wachira to understand what date to assign to the _final EMC plan_ task.\n",
    "\n",
    "The rest of the exercise will show how to import old county meetings only."
   ]
  },
  {
   "cell_type": "markdown",
   "id": "18887d6d-0458-45a6-866f-6a991767d160",
   "metadata": {},
   "source": [
    "## Injecting the data\n",
    "\n",
    "### Initiating the API infrastructure"
   ]
  },
  {
   "cell_type": "code",
   "execution_count": 27,
   "id": "7ce014f5-b3b8-4abe-bc47-10bab9f2de7f",
   "metadata": {},
   "outputs": [],
   "source": [
    "# You can find most of this code in the \"Zoho API orchestration\" notebook\n",
    "# I will add more information in these lines for you to understand better what the code does.\n",
    "import requests\n",
    "import json\n",
    "# get_close_matches function helps me match strings which are typed in slightly different manners\n",
    "from difflib import get_close_matches"
   ]
  },
  {
   "cell_type": "code",
   "execution_count": 18,
   "id": "31f5a342-8439-4961-8654-5f1fcf9abcc5",
   "metadata": {},
   "outputs": [],
   "source": [
    "# The authentication information is taken from the self_client.json file.\n",
    "# portals_info.json contains the Zoho Project portal ID needed for all operations that edit Projects\n",
    "# refresh_tokens.json contains the refresh tokens that the API requires to create access tokens. See zoho OAUTH api documentation\n",
    "# if this last sentence is not clear.\n",
    "with open('./data/self_client.json') as client_info, open('./data/portals_info.json') as portals_info, open('./data/refresh_tokens.json') as tokens_file:\n",
    "    client_app_data = json.load(client_info)\n",
    "    zoho_portals_data = json.load(portals_info)\n",
    "    tokens_dict = json.load(tokens_file)"
   ]
  },
  {
   "cell_type": "code",
   "execution_count": 21,
   "id": "788f5104-3959-4513-9e9b-1682499e67dd",
   "metadata": {},
   "outputs": [],
   "source": [
    "TOKEN_URI = 'https://accounts.zoho.com/oauth/v2/token'\n",
    "PROJECTS_API_URI = f'https://projectsapi.zoho.com/restapi/portal/{zoho_portals_data[\"projects_portal_id\"]}/projects/'\n",
    "# BOOKS_API_URI = 'https://www.zohoapis.com/books/v3'\n",
    "CRM_APU_URI = 'https://www.zohoapis.com/crm/v4'"
   ]
  },
  {
   "cell_type": "code",
   "execution_count": 22,
   "id": "9cd210e4-1174-4b44-9817-a1ee12f56e0e",
   "metadata": {},
   "outputs": [
    {
     "name": "stdout",
     "output_type": "stream",
     "text": [
      "portals_all <Response [200]>\n",
      "projects_all <Response [200]>\n",
      "crm_accounts_read <Response [200]>\n",
      "crm_accounts_write <Response [200]>\n",
      "projects_tasks_read <Response [200]>\n",
      "projects_timesheets_read <Response [200]>\n",
      "books_fullaccess_all <Response [200]>\n",
      "books_expenses_all <Response [200]>\n",
      "books_invoices_all <Response [200]>\n",
      "books_bills_all <Response [200]>\n"
     ]
    }
   ],
   "source": [
    "# Often, I work in different zoho Applications at the same time.\n",
    "# Each application requires different requests headers. To make my life easier, I create a requests\n",
    "# session for each application and store all of them in zoho_apps_api_sessions.\n",
    "# For example, when I need to work with Zoho Books api, I will take the Zoho books session.\n",
    "zoho_apps_api_sessions = tokens_dict['tokens'].copy()\n",
    "\n",
    "refresh_payload = {\n",
    "    'grant_type':'refresh_token',\n",
    "    'client_id':client_app_data['client_id'],\n",
    "    'client_secret':client_app_data['client_secret']\n",
    "}\n",
    "\n",
    "# All sessions need to be refreshed every now and then\n",
    "for scope, refresh_token in tokens_dict['tokens'].items():\n",
    "    refresh_payload['refresh_token'] = refresh_token\n",
    "    refresh_response = requests.post(TOKEN_URI, data=refresh_payload)\n",
    "    print(scope, refresh_response)\n",
    "    \n",
    "    # Create app specific session\n",
    "    s = requests.session()\n",
    "    s.headers = {\n",
    "        'Authorization':f'Bearer {refresh_response.json()[\"access_token\"]}'\n",
    "    }\n",
    "    # Store in sessions dict\n",
    "    zoho_apps_api_sessions[scope] = s"
   ]
  },
  {
   "cell_type": "markdown",
   "id": "3220ef78-8203-4161-84bb-52ee07628f13",
   "metadata": {},
   "source": [
    "### Working in the Zoho Projects API"
   ]
  },
  {
   "cell_type": "code",
   "execution_count": 28,
   "id": "08ddcde2-ae08-4bfa-b292-152ea005c410",
   "metadata": {},
   "outputs": [],
   "source": [
    "# Using the requests session that contains auth headers for Zoho Projects\n",
    "projects_session = zoho_apps_api_sessions['projects_all']"
   ]
  },
  {
   "cell_type": "markdown",
   "id": "6ad31b9d-275a-4964-a67d-e64cf712440e",
   "metadata": {},
   "source": [
    "One hassle is to match each project with the correct CRM account. I have a CRM table from which I will draw the crm account IDs via string similarity search with the _get_close_matches_ function"
   ]
  },
  {
   "cell_type": "code",
   "execution_count": 2,
   "id": "663d6a9e-ef8c-4bee-b0db-1574c78864f8",
   "metadata": {
    "tags": []
   },
   "outputs": [
    {
     "ename": "NameError",
     "evalue": "name 'dataframes' is not defined",
     "output_type": "error",
     "traceback": [
      "\u001b[1;31m---------------------------------------------------------------------------\u001b[0m",
      "\u001b[1;31mNameError\u001b[0m                                 Traceback (most recent call last)",
      "Cell \u001b[1;32mIn[2], line 2\u001b[0m\n\u001b[0;32m      1\u001b[0m \u001b[38;5;28;01mimport\u001b[39;00m \u001b[38;5;21;01mpandas\u001b[39;00m \u001b[38;5;28;01mas\u001b[39;00m \u001b[38;5;21;01mpd\u001b[39;00m\n\u001b[1;32m----> 2\u001b[0m crm_extract_counties \u001b[38;5;241m=\u001b[39m dataframes[\u001b[38;5;124m'\u001b[39m\u001b[38;5;124mAccounts_001\u001b[39m\u001b[38;5;124m'\u001b[39m]\u001b[38;5;241m.\u001b[39mquery(\u001b[38;5;124m\"\u001b[39m\u001b[38;5;124m`Account Type` == \u001b[39m\u001b[38;5;124m'\u001b[39m\u001b[38;5;124mCounty\u001b[39m\u001b[38;5;124m'\u001b[39m\u001b[38;5;124m\"\u001b[39m)[[\u001b[38;5;124m'\u001b[39m\u001b[38;5;124mAccount ID\u001b[39m\u001b[38;5;124m'\u001b[39m, \u001b[38;5;124m'\u001b[39m\u001b[38;5;124mAccount Name\u001b[39m\u001b[38;5;124m'\u001b[39m]]\n\u001b[0;32m      3\u001b[0m crm_extract_counties\u001b[38;5;241m.\u001b[39msample(\u001b[38;5;241m3\u001b[39m)\n",
      "\u001b[1;31mNameError\u001b[0m: name 'dataframes' is not defined"
     ]
    }
   ],
   "source": [
    "crm_extract_counties = dataframes['crm_export'].query(\"`Account Type` == 'County'\")[['Account ID', 'Account Name']]\n",
    "crm_extract_counties.sample(3)"
   ]
  },
  {
   "cell_type": "code",
   "execution_count": 43,
   "id": "28090fcc-7671-4deb-9b75-b7a85201937d",
   "metadata": {},
   "outputs": [
    {
     "data": {
      "text/html": [
       "<div>\n",
       "<style scoped>\n",
       "    .dataframe tbody tr th:only-of-type {\n",
       "        vertical-align: middle;\n",
       "    }\n",
       "\n",
       "    .dataframe tbody tr th {\n",
       "        vertical-align: top;\n",
       "    }\n",
       "\n",
       "    .dataframe thead th {\n",
       "        text-align: right;\n",
       "    }\n",
       "</style>\n",
       "<table border=\"1\" class=\"dataframe\">\n",
       "  <thead>\n",
       "    <tr style=\"text-align: right;\">\n",
       "      <th></th>\n",
       "      <th>crm_id</th>\n",
       "    </tr>\n",
       "    <tr>\n",
       "      <th>county</th>\n",
       "      <th></th>\n",
       "    </tr>\n",
       "  </thead>\n",
       "  <tbody>\n",
       "    <tr>\n",
       "      <th>Nairobi</th>\n",
       "      <td>5621728000000484223</td>\n",
       "    </tr>\n",
       "    <tr>\n",
       "      <th>Migori</th>\n",
       "      <td>5621728000000485475</td>\n",
       "    </tr>\n",
       "    <tr>\n",
       "      <th>Kakamega</th>\n",
       "      <td>5621728000000485443</td>\n",
       "    </tr>\n",
       "  </tbody>\n",
       "</table>\n",
       "</div>"
      ],
      "text/plain": [
       "                       crm_id\n",
       "county                       \n",
       "Nairobi   5621728000000484223\n",
       "Migori    5621728000000485475\n",
       "Kakamega  5621728000000485443"
      ]
     },
     "execution_count": 43,
     "metadata": {},
     "output_type": "execute_result"
    }
   ],
   "source": [
    "crm_county_ids = crm_extract_counties.copy()\n",
    "crm_county_ids.columns = ['crm_id', 'county']\n",
    "crm_county_ids['crm_id'] = crm_county_ids.crm_id.str.split('_').str[1]\n",
    "crm_county_ids['county'] = crm_county_ids.county.str.split(' County').str[0]\n",
    "crm_county_ids = crm_county_ids.set_index('county')\n",
    "\n",
    "crm_county_ids.sample(3)"
   ]
  },
  {
   "cell_type": "markdown",
   "id": "db4ed4a5-af33-4f8b-9771-528bf0ed12f4",
   "metadata": {},
   "source": [
    "Let's take a look at how get_close_matches will help."
   ]
  },
  {
   "cell_type": "code",
   "execution_count": 45,
   "id": "c8dc6f0c-0b3d-4bb5-a9f0-fb9fd4a4ce49",
   "metadata": {},
   "outputs": [
    {
     "data": {
      "text/plain": [
       "['Isiolo']"
      ]
     },
     "execution_count": 45,
     "metadata": {},
     "output_type": "execute_result"
    }
   ],
   "source": [
    "# Take the first county meeting\n",
    "county_example = county_meetings.loc[0].county\n",
    "# Find the closest matches\n",
    "get_close_matches(county_example, crm_county_ids.index)"
   ]
  },
  {
   "cell_type": "markdown",
   "id": "bb6c3e2f-15b5-4315-b115-31c6341a876c",
   "metadata": {},
   "source": [
    "The result is not that amazing in this case. If the county was misspelt, it would still return the correct result. Take a look"
   ]
  },
  {
   "cell_type": "code",
   "execution_count": 47,
   "id": "3e099a38-30c9-4ab1-bd42-95bf7b7a2368",
   "metadata": {},
   "outputs": [
    {
     "data": {
      "text/plain": [
       "['Isiolo']"
      ]
     },
     "execution_count": 47,
     "metadata": {},
     "output_type": "execute_result"
    }
   ],
   "source": [
    "get_close_matches('i so lo', crm_county_ids.index)"
   ]
  },
  {
   "cell_type": "markdown",
   "id": "23314bde-40a4-4a02-bf3d-d933a878fb71",
   "metadata": {},
   "source": [
    "We need to add to each county meeting its matching crm account id"
   ]
  },
  {
   "cell_type": "code",
   "execution_count": 59,
   "id": "3cb4d49b-47dc-4cad-b228-4d1711ba7716",
   "metadata": {},
   "outputs": [],
   "source": [
    "matching_county_names = county_meetings.county.apply(lambda x: get_close_matches(x, crm_county_ids.index)[0])\n",
    "county_meetings['crm_id'] = crm_county_ids.loc[matching_county_names].reset_index().crm_id"
   ]
  },
  {
   "cell_type": "code",
   "execution_count": 61,
   "id": "aa2013c0-4bb4-49a1-8438-c9983eeb1d8a",
   "metadata": {},
   "outputs": [
    {
     "data": {
      "text/html": [
       "<div>\n",
       "<style scoped>\n",
       "    .dataframe tbody tr th:only-of-type {\n",
       "        vertical-align: middle;\n",
       "    }\n",
       "\n",
       "    .dataframe tbody tr th {\n",
       "        vertical-align: top;\n",
       "    }\n",
       "\n",
       "    .dataframe thead th {\n",
       "        text-align: right;\n",
       "    }\n",
       "</style>\n",
       "<table border=\"1\" class=\"dataframe\">\n",
       "  <thead>\n",
       "    <tr style=\"text-align: right;\">\n",
       "      <th></th>\n",
       "      <th>county</th>\n",
       "      <th>date</th>\n",
       "      <th>crm_id</th>\n",
       "    </tr>\n",
       "  </thead>\n",
       "  <tbody>\n",
       "    <tr>\n",
       "      <th>11</th>\n",
       "      <td>Bomet</td>\n",
       "      <td>2023-02-16</td>\n",
       "      <td>5621728000000484827</td>\n",
       "    </tr>\n",
       "    <tr>\n",
       "      <th>1</th>\n",
       "      <td>Isiolo</td>\n",
       "      <td>2018-10-31</td>\n",
       "      <td>5621728000000485063</td>\n",
       "    </tr>\n",
       "    <tr>\n",
       "      <th>8</th>\n",
       "      <td>Elgeyo Marakwet</td>\n",
       "      <td>2018-06-11</td>\n",
       "      <td>5621728000000486095</td>\n",
       "    </tr>\n",
       "  </tbody>\n",
       "</table>\n",
       "</div>"
      ],
      "text/plain": [
       "             county       date               crm_id\n",
       "11            Bomet 2023-02-16  5621728000000484827\n",
       "1            Isiolo 2018-10-31  5621728000000485063\n",
       "8   Elgeyo Marakwet 2018-06-11  5621728000000486095"
      ]
     },
     "execution_count": 61,
     "metadata": {},
     "output_type": "execute_result"
    }
   ],
   "source": [
    "county_meetings.sample(3)"
   ]
  },
  {
   "cell_type": "markdown",
   "id": "dc0dbf5f-569a-4f1c-ae9f-c0db1500c3a5",
   "metadata": {},
   "source": [
    "We have all the information to populate the Zoho Project with County meetings information"
   ]
  },
  {
   "cell_type": "markdown",
   "id": "b4dc1078-6bbe-4d8b-b15e-aed436141793",
   "metadata": {},
   "source": [
    "To test if the implementation works, I will create a loop for each of the rows of the table but execute it only for the first row. To do this, I will add a break statement at the end of the loop. When I'm sure all the steps in the loop are executed properly, I will perform the full import"
   ]
  },
  {
   "cell_type": "code",
   "execution_count": 72,
   "id": "8c5c621c-13c3-4e9a-b260-d5cf01dab9cc",
   "metadata": {},
   "outputs": [
    {
     "name": "stdout",
     "output_type": "stream",
     "text": [
      "0 Created proj successfully Isiolo County Meeting\n",
      "1 Created proj successfully Isiolo County Meeting\n",
      "2 Created proj successfully Marsabit County Meeting\n",
      "3 Created proj successfully Uasin Gishu County Meeting\n",
      "4 Created proj successfully Uasin Gishu County Meeting\n",
      "5 Created proj successfully Uasin Gishu County Meeting\n",
      "6 Created proj successfully Elgeyo Marakwet County Meeting\n",
      "7 Created proj successfully Elgeyo Marakwet County Meeting\n",
      "8 Created proj successfully Elgeyo Marakwet County Meeting\n",
      "9 Created proj successfully Kericho County Meeting\n",
      "10 Created proj successfully Kericho County Meeting\n",
      "11 Created proj successfully Bomet County Meeting\n",
      "12 Created proj successfully Bomet County Meeting\n",
      "13 Created proj successfully Nandi County Meeting\n",
      "14 Created proj successfully Tharaka Nithi County Meeting\n",
      "15 Created proj successfully Tharaka Nithi County Meeting\n",
      "16 Created proj successfully Kwale County Meeting\n",
      "17 Created proj successfully Kwale County Meeting\n",
      "18 Created proj successfully Kwale County Meeting\n",
      "19 Created proj successfully Murang'a County Meeting\n",
      "20 Created proj successfully Murang'a County Meeting\n",
      "21 Created proj successfully Kirinyaga County Meeting\n",
      "22 Created proj successfully Kirinyaga County Meeting\n",
      "23 Created proj successfully Homa Bay County Meeting\n",
      "24 Created proj successfully Homa Bay County Meeting\n",
      "25 Created proj successfully Bungoma County Meeting\n",
      "26 Created proj successfully Bungoma County Meeting\n",
      "27 Created proj successfully Turkana County Meeting\n",
      "28 Created proj successfully Turkana County Meeting\n",
      "29 Created proj successfully Turkana County Meeting\n",
      "30 Created proj successfully Turkana County Meeting\n",
      "31 Created proj successfully Turkana County Meeting\n",
      "32 Created proj successfully Turkana County Meeting\n",
      "33 Created proj successfully Taita Taveta County Meeting\n",
      "34 Created proj successfully Taita Taveta County Meeting\n",
      "35 Created proj successfully Taita Taveta County Meeting\n",
      "36 Created proj successfully Mombasa County Meeting\n",
      "37 Created proj successfully Mombasa County Meeting\n",
      "38 Created proj successfully Nyeri County Meeting\n",
      "39 Created proj successfully Nyeri County Meeting\n",
      "40 Created proj successfully Nyeri County Meeting\n",
      "41 Created proj successfully Meru County Meeting\n",
      "42 Created proj successfully Meru County Meeting\n",
      "43 Created proj successfully Lamu County Meeting\n",
      "44 Created proj successfully Lamu County Meeting\n",
      "45 Created proj successfully Lamu County Meeting\n",
      "46 Created proj successfully Garissa County Meeting\n",
      "47 Created proj successfully Garissa County Meeting\n",
      "48 Created proj successfully Garissa County Meeting\n",
      "49 Created proj successfully Vihiga County Meeting\n",
      "50 Created proj successfully Vihiga County Meeting\n",
      "51 Created proj successfully Kisumu County Meeting\n",
      "52 Created proj successfully Kisumu County Meeting\n",
      "53 Created proj successfully Kisumu County Meeting\n",
      "54 Created proj successfully Kisii County Meeting\n",
      "55 Created proj successfully Kisii County Meeting\n",
      "56 Created proj successfully Nairobi County Meeting\n",
      "57 Created proj successfully Nairobi County Meeting\n",
      "58 Created proj successfully Machakos County Meeting\n",
      "59 Created proj successfully Machakos County Meeting\n",
      "60 Created proj successfully Machakos County Meeting\n",
      "61 Created proj successfully Kilifi County Meeting\n",
      "62 Created proj successfully Kilifi County Meeting\n",
      "63 Created proj successfully Tana River County Meeting\n",
      "64 Created proj successfully Tana River County Meeting\n",
      "65 Created proj successfully Tana River County Meeting\n",
      "66 Created proj successfully Kajiado County Meeting\n",
      "67 Created proj successfully Kajiado County Meeting\n",
      "68 Created proj successfully Nyandarua County Meeting\n",
      "69 Created proj successfully Nyandarua County Meeting\n",
      "70 Created proj successfully Embu County Meeting\n",
      "71 Created proj successfully Embu County Meeting\n",
      "72 Created proj successfully Makueni County Meeting\n",
      "73 Created proj successfully Makueni County Meeting\n",
      "74 Created proj successfully Makueni County Meeting\n",
      "75 Created proj successfully Kakamega County Meeting\n",
      "76 Created proj successfully Kakamega County Meeting\n",
      "77 Created proj successfully Busia County Meeting\n",
      "78 Created proj successfully Busia County Meeting\n",
      "79 Created proj successfully Siaya County Meeting\n",
      "80 Created proj successfully Siaya County Meeting\n",
      "81 Created proj successfully Siaya County Meeting\n",
      "82 Created proj successfully Migori County Meeting\n",
      "83 Created proj successfully Migori County Meeting\n",
      "84 Created proj successfully Wajir County Meeting\n",
      "85 Created proj successfully Wajir County Meeting\n",
      "86 Created proj successfully Narok County Meeting\n",
      "87 Created proj successfully Narok County Meeting\n",
      "88 Created proj successfully Baringo County Meeting\n",
      "89 Created proj successfully Baringo County Meeting\n",
      "90 Created proj successfully Nakuru County Meeting\n",
      "91 Created proj successfully Nakuru County Meeting\n",
      "92 Created proj successfully Nakuru County Meeting\n",
      "93 Created proj successfully West Pokot County Meeting\n",
      "94 Created proj successfully West Pokot County Meeting\n",
      "95 Created proj successfully Mandera County Meeting\n",
      "96 Created proj successfully Mandera County Meeting\n",
      "97 Created proj successfully Samburu County Meeting\n",
      "98 Created proj successfully Kiambu County Meeting\n",
      "99 Created proj successfully Kitui County Meeting\n",
      "100 Created proj successfully Laikipia County Meeting\n",
      "101 Created proj successfully Nyamira County Meeting\n",
      "102 Created proj successfully Trans Nzoia County Meeting\n"
     ]
    }
   ],
   "source": [
    "for i, row in county_meetings.iterrows():\n",
    "    project_date = row.date.strftime('%m-%d-%Y')\n",
    "    payload = {\n",
    "        'name': row.county + ' County Meeting',\n",
    "        'description':'This county meeting has been imported via API by Vittorio Rossi',\n",
    "        'layout_id':'2072013000000020008', # Taken from this URL https://projects.zoho.com/portal/emkfoundation#setup/fieldsettings/2072013000000020008\n",
    "        'group_id':'2072013000000312011', # The selected group is Advocacy\n",
    "        'start_date':project_date,\n",
    "        'end_date':project_date,\n",
    "        'public':'yes',\n",
    "        'UDF_CHAR1':'Advocacy',\n",
    "        # The next line is updating the Account custom field\n",
    "        'UDF_TEXT1':f'{{\"module_id\":\"{row[\"crm_id\"]}\",\"value\":\"{row.county} County\"}}'\n",
    "    }\n",
    "    create_project_response = projects_session.post(PROJECTS_API_URI, data=payload)\n",
    "    try:\n",
    "        proj_json = create_project_response.json()['projects'][0]\n",
    "        proj_id = proj_json['id']\n",
    "        proj_name = proj_json['name']\n",
    "        print(i, \"Created proj successfully\", proj_name)\n",
    "        \n",
    "        update_project_via_id_uri = PROJECTS_API_URI + str(proj_id) + '/'\n",
    "        update_proj_response = projects_session.post(update_project_via_id_uri, data={'custom_status':'2072013000000020116'})\n",
    "        time.sleep(.3)\n",
    "    except KeyError:\n",
    "        print('Failed to creat proj')\n",
    "    # break\n",
    "    # the break statement is now commented out for the full import"
   ]
  }
 ],
 "metadata": {
  "kernelspec": {
   "display_name": "Python 3 (ipykernel)",
   "language": "python",
   "name": "python3"
  },
  "language_info": {
   "codemirror_mode": {
    "name": "ipython",
    "version": 3
   },
   "file_extension": ".py",
   "mimetype": "text/x-python",
   "name": "python",
   "nbconvert_exporter": "python",
   "pygments_lexer": "ipython3",
   "version": "3.11.3"
  }
 },
 "nbformat": 4,
 "nbformat_minor": 5
}
