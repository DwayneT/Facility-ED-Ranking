{
 "cells": [
  {
   "cell_type": "code",
   "execution_count": 3,
   "id": "19a19f26-f9ba-4fe1-b681-f397975b0c5d",
   "metadata": {
    "tags": []
   },
   "outputs": [],
   "source": [
    "import pandas as pd\n",
    "\n",
    "accounts = pd.read_csv(\"Accounts_001.csv\")"
   ]
  },
  {
   "cell_type": "code",
   "execution_count": 5,
   "id": "39b2450f-1c29-49ca-bee7-9a164b8ef5bd",
   "metadata": {
    "tags": []
   },
   "outputs": [
    {
     "data": {
      "text/html": [
       "<div>\n",
       "<style scoped>\n",
       "    .dataframe tbody tr th:only-of-type {\n",
       "        vertical-align: middle;\n",
       "    }\n",
       "\n",
       "    .dataframe tbody tr th {\n",
       "        vertical-align: top;\n",
       "    }\n",
       "\n",
       "    .dataframe thead th {\n",
       "        text-align: right;\n",
       "    }\n",
       "</style>\n",
       "<table border=\"1\" class=\"dataframe\">\n",
       "  <thead>\n",
       "    <tr style=\"text-align: right;\">\n",
       "      <th></th>\n",
       "      <th>Record Id</th>\n",
       "      <th>Account Owner.id</th>\n",
       "      <th>Rating</th>\n",
       "      <th>Account Name</th>\n",
       "      <th>Phone</th>\n",
       "      <th>Account Site</th>\n",
       "      <th>Fax</th>\n",
       "      <th>Parent Account.id</th>\n",
       "      <th>Website</th>\n",
       "      <th>Account Number</th>\n",
       "      <th>...</th>\n",
       "      <th>Email</th>\n",
       "      <th>Number of beds in the hospital</th>\n",
       "      <th>Number of critical care beds</th>\n",
       "      <th>Number of beds in the ED</th>\n",
       "      <th>ED Department</th>\n",
       "      <th>County erGoogle Drive URL</th>\n",
       "      <th>Google Maps URL</th>\n",
       "      <th>Piped Oxygen in ED</th>\n",
       "      <th>Alternate Email</th>\n",
       "      <th>Alternate Phone</th>\n",
       "    </tr>\n",
       "  </thead>\n",
       "  <tbody>\n",
       "    <tr>\n",
       "      <th>9</th>\n",
       "      <td>zcrm_5621728000000484445</td>\n",
       "      <td>zcrm_5621728000000399001</td>\n",
       "      <td>Active</td>\n",
       "      <td>Trans Nzoia County</td>\n",
       "      <td>0724622965</td>\n",
       "      <td>NaN</td>\n",
       "      <td>NaN</td>\n",
       "      <td>NaN</td>\n",
       "      <td>http://www.transnzoia.go.ke/</td>\n",
       "      <td>0</td>\n",
       "      <td>...</td>\n",
       "      <td>NaN</td>\n",
       "      <td>NaN</td>\n",
       "      <td>NaN</td>\n",
       "      <td>NaN</td>\n",
       "      <td>NaN</td>\n",
       "      <td>https://drive.google.com/drive/folders/1LTk5vX...</td>\n",
       "      <td>https://goo.gl/maps/SMmCj7DshzbneSWq9?coh=1785...</td>\n",
       "      <td>No</td>\n",
       "      <td>NaN</td>\n",
       "      <td>NaN</td>\n",
       "    </tr>\n",
       "    <tr>\n",
       "      <th>143</th>\n",
       "      <td>zcrm_5621728000001230263</td>\n",
       "      <td>zcrm_5621728000000399001</td>\n",
       "      <td>Not Active</td>\n",
       "      <td>Kihara Level 4 Hospital</td>\n",
       "      <td>0728878275</td>\n",
       "      <td>NaN</td>\n",
       "      <td>NaN</td>\n",
       "      <td>zcrm_5621728000000486565</td>\n",
       "      <td>https://kihara-hospital.business.site/</td>\n",
       "      <td>0</td>\n",
       "      <td>...</td>\n",
       "      <td>NaN</td>\n",
       "      <td>65.0</td>\n",
       "      <td>4.0</td>\n",
       "      <td>0.0</td>\n",
       "      <td>Yes</td>\n",
       "      <td>https://drive.google.com/drive/folders/1V5yzM-...</td>\n",
       "      <td>https://goo.gl/maps/KNq3yRobCF9SGJJy8?coh=1785...</td>\n",
       "      <td>No</td>\n",
       "      <td>NaN</td>\n",
       "      <td>NaN</td>\n",
       "    </tr>\n",
       "    <tr>\n",
       "      <th>48</th>\n",
       "      <td>zcrm_5621728000001230088</td>\n",
       "      <td>zcrm_5621728000000399001</td>\n",
       "      <td>Active</td>\n",
       "      <td>Coast General Teaching and Referral Hospital</td>\n",
       "      <td>0721425877</td>\n",
       "      <td>NaN</td>\n",
       "      <td>NaN</td>\n",
       "      <td>zcrm_5621728000000485236</td>\n",
       "      <td>https://cgtrh.go.ke/</td>\n",
       "      <td>0</td>\n",
       "      <td>...</td>\n",
       "      <td>info@cgtrh.go.ke</td>\n",
       "      <td>300.0</td>\n",
       "      <td>8.0</td>\n",
       "      <td>28.0</td>\n",
       "      <td>Yes</td>\n",
       "      <td>https://drive.google.com/drive/folders/1-5uQla...</td>\n",
       "      <td>https://goo.gl/maps/csPbM8toLmrZXXPi6?coh=1785...</td>\n",
       "      <td>Yes</td>\n",
       "      <td>NaN</td>\n",
       "      <td>NaN</td>\n",
       "    </tr>\n",
       "    <tr>\n",
       "      <th>246</th>\n",
       "      <td>zcrm_5621728000001230454</td>\n",
       "      <td>zcrm_5621728000000399001</td>\n",
       "      <td>Not Active</td>\n",
       "      <td>Gesusu Sub-County Referral Hospital</td>\n",
       "      <td>0738868736</td>\n",
       "      <td>NaN</td>\n",
       "      <td>NaN</td>\n",
       "      <td>zcrm_5621728000000486001</td>\n",
       "      <td>https://gesusu-hospital.business.site/</td>\n",
       "      <td>0</td>\n",
       "      <td>...</td>\n",
       "      <td>NaN</td>\n",
       "      <td>31.0</td>\n",
       "      <td>0.0</td>\n",
       "      <td>2.0</td>\n",
       "      <td>Yes</td>\n",
       "      <td>https://drive.google.com/drive/folders/1h1i3mt...</td>\n",
       "      <td>https://goo.gl/maps/aw8AFwBvYHBjxaQf6?coh=1785...</td>\n",
       "      <td>No</td>\n",
       "      <td>NaN</td>\n",
       "      <td>NaN</td>\n",
       "    </tr>\n",
       "    <tr>\n",
       "      <th>227</th>\n",
       "      <td>zcrm_5621728000001230419</td>\n",
       "      <td>zcrm_5621728000000399001</td>\n",
       "      <td>Active</td>\n",
       "      <td>Jaramogi Oginga Odinga Teaching &amp; Referral Hos...</td>\n",
       "      <td>0722978968</td>\n",
       "      <td>NaN</td>\n",
       "      <td>NaN</td>\n",
       "      <td>zcrm_5621728000000485001</td>\n",
       "      <td>https://jootrh.go.ke/</td>\n",
       "      <td>0</td>\n",
       "      <td>...</td>\n",
       "      <td>NaN</td>\n",
       "      <td>555.0</td>\n",
       "      <td>3.0</td>\n",
       "      <td>3.0</td>\n",
       "      <td>Yes</td>\n",
       "      <td>https://drive.google.com/drive/folders/1zl_8ch...</td>\n",
       "      <td>https://goo.gl/maps/vVzqPAPhnETSJiXNA?coh=1785...</td>\n",
       "      <td>Yes</td>\n",
       "      <td>NaN</td>\n",
       "      <td>NaN</td>\n",
       "    </tr>\n",
       "  </tbody>\n",
       "</table>\n",
       "<p>5 rows × 65 columns</p>\n",
       "</div>"
      ],
      "text/plain": [
       "                    Record Id          Account Owner.id      Rating  \\\n",
       "9    zcrm_5621728000000484445  zcrm_5621728000000399001      Active   \n",
       "143  zcrm_5621728000001230263  zcrm_5621728000000399001  Not Active   \n",
       "48   zcrm_5621728000001230088  zcrm_5621728000000399001      Active   \n",
       "246  zcrm_5621728000001230454  zcrm_5621728000000399001  Not Active   \n",
       "227  zcrm_5621728000001230419  zcrm_5621728000000399001      Active   \n",
       "\n",
       "                                          Account Name       Phone  \\\n",
       "9                                   Trans Nzoia County  0724622965   \n",
       "143                            Kihara Level 4 Hospital  0728878275   \n",
       "48        Coast General Teaching and Referral Hospital  0721425877   \n",
       "246                Gesusu Sub-County Referral Hospital  0738868736   \n",
       "227  Jaramogi Oginga Odinga Teaching & Referral Hos...  0722978968   \n",
       "\n",
       "     Account Site  Fax         Parent Account.id  \\\n",
       "9             NaN  NaN                       NaN   \n",
       "143           NaN  NaN  zcrm_5621728000000486565   \n",
       "48            NaN  NaN  zcrm_5621728000000485236   \n",
       "246           NaN  NaN  zcrm_5621728000000486001   \n",
       "227           NaN  NaN  zcrm_5621728000000485001   \n",
       "\n",
       "                                    Website  Account Number  ...  \\\n",
       "9              http://www.transnzoia.go.ke/               0  ...   \n",
       "143  https://kihara-hospital.business.site/               0  ...   \n",
       "48                     https://cgtrh.go.ke/               0  ...   \n",
       "246  https://gesusu-hospital.business.site/               0  ...   \n",
       "227                   https://jootrh.go.ke/               0  ...   \n",
       "\n",
       "                Email Number of beds in the hospital  \\\n",
       "9                 NaN                            NaN   \n",
       "143               NaN                           65.0   \n",
       "48   info@cgtrh.go.ke                          300.0   \n",
       "246               NaN                           31.0   \n",
       "227               NaN                          555.0   \n",
       "\n",
       "    Number of critical care beds  Number of beds in the ED  ED Department  \\\n",
       "9                            NaN                       NaN            NaN   \n",
       "143                          4.0                       0.0            Yes   \n",
       "48                           8.0                      28.0            Yes   \n",
       "246                          0.0                       2.0            Yes   \n",
       "227                          3.0                       3.0            Yes   \n",
       "\n",
       "                             County erGoogle Drive URL  \\\n",
       "9    https://drive.google.com/drive/folders/1LTk5vX...   \n",
       "143  https://drive.google.com/drive/folders/1V5yzM-...   \n",
       "48   https://drive.google.com/drive/folders/1-5uQla...   \n",
       "246  https://drive.google.com/drive/folders/1h1i3mt...   \n",
       "227  https://drive.google.com/drive/folders/1zl_8ch...   \n",
       "\n",
       "                                       Google Maps URL Piped Oxygen in ED  \\\n",
       "9    https://goo.gl/maps/SMmCj7DshzbneSWq9?coh=1785...                 No   \n",
       "143  https://goo.gl/maps/KNq3yRobCF9SGJJy8?coh=1785...                 No   \n",
       "48   https://goo.gl/maps/csPbM8toLmrZXXPi6?coh=1785...                Yes   \n",
       "246  https://goo.gl/maps/aw8AFwBvYHBjxaQf6?coh=1785...                 No   \n",
       "227  https://goo.gl/maps/vVzqPAPhnETSJiXNA?coh=1785...                Yes   \n",
       "\n",
       "    Alternate Email Alternate Phone  \n",
       "9               NaN             NaN  \n",
       "143             NaN             NaN  \n",
       "48              NaN             NaN  \n",
       "246             NaN             NaN  \n",
       "227             NaN             NaN  \n",
       "\n",
       "[5 rows x 65 columns]"
      ]
     },
     "execution_count": 5,
     "metadata": {},
     "output_type": "execute_result"
    }
   ],
   "source": [
    "accounts.sample(5)"
   ]
  },
  {
   "cell_type": "code",
   "execution_count": 14,
   "id": "c0bc10ee-56b0-4d29-8002-91b7559e7f99",
   "metadata": {},
   "outputs": [],
   "source": [
    "import json\n",
    "import requests\n",
    "# Open and read the contents of the JSON file\n",
    "with open('self_client.json') as json_file:\n",
    "    token_params = json.load(json_file)"
   ]
  },
  {
   "cell_type": "code",
   "execution_count": 15,
   "id": "05bef89b-0eed-4191-a58c-da80efb13d95",
   "metadata": {
    "tags": []
   },
   "outputs": [
    {
     "data": {
      "text/plain": [
       "{'scope': ['ZohoProjects.projects.ALL'],\n",
       " 'expiry_time': 1693384646218,\n",
       " 'client_id': '1000.L54199S7AYHYB2WHFHPE4J7806FVCH',\n",
       " 'client_secret': 'b4fc552e9d497e3b2fb977adcf9901985a3c4301d2',\n",
       " 'code': '1000.04d88f8477f0a188febf38653dbb9c26.5dbdb8f1e47af477dbe4a735099a360e',\n",
       " 'grant_type': 'authorization_code'}"
      ]
     },
     "execution_count": 15,
     "metadata": {},
     "output_type": "execute_result"
    }
   ],
   "source": [
    "client_info"
   ]
  },
  {
   "cell_type": "code",
   "execution_count": 16,
   "id": "169aec1b-7881-4a15-83d5-3a3ff1c21153",
   "metadata": {
    "tags": []
   },
   "outputs": [],
   "source": [
    "token_url = 'https://accounts.zoho.com/oauth/v2/token'"
   ]
  },
  {
   "cell_type": "code",
   "execution_count": 17,
   "id": "3feabe79-e0b3-4f29-a3a8-1b7461d59cb6",
   "metadata": {
    "tags": []
   },
   "outputs": [],
   "source": [
    "response = requests.post(token_url, data=token_params)\n",
    "access_token = response.json().get('access_token')"
   ]
  },
  {
   "cell_type": "code",
   "execution_count": 19,
   "id": "21f16d7c-1ae5-4f96-a3db-a25fe89892e9",
   "metadata": {
    "tags": []
   },
   "outputs": [
    {
     "data": {
      "text/plain": [
       "<Response [200]>"
      ]
     },
     "execution_count": 19,
     "metadata": {},
     "output_type": "execute_result"
    }
   ],
   "source": [
    "response"
   ]
  },
  {
   "cell_type": "code",
   "execution_count": 11,
   "id": "67e8d197-b1e6-4820-8fcc-fb03505defba",
   "metadata": {},
   "outputs": [
    {
     "name": "stdout",
     "output_type": "stream",
     "text": [
      "{'error': 'invalid_code'}\n"
     ]
    }
   ],
   "source": [
    "import requests\n",
    "\n",
    "# Define the URL\n",
    "token_url = \"https://accounts.zoho.com/oauth/v2/token\"\n",
    "\n",
    "# Define the parameters\n",
    "params = {\n",
    "    \"code\": \"1000.21053670bbe90ba31b0bfb23d18e754e.e779469dd74138038801d5eec73f8e26\",\n",
    "    \"redirect_uri\": \"https://api-console.zoho.com/\",\n",
    "    \"client_id\": \"1000.JOA5DQ91QR7TO642KUU6SE28VJVWFF\",\n",
    "    \"client_secret\": \"3c33059bb9a207afafbc4ef2aecc5d3d956746e54c\",\n",
    "    \"grant_type\": \"authorization_code\"\n",
    "}\n",
    "\n",
    "# Make the POST request\n",
    "response = requests.post(token_url, data=params)\n",
    "\n",
    "# Print the response\n",
    "print(response.json())\n"
   ]
  },
  {
   "cell_type": "code",
   "execution_count": 7,
   "id": "98299821-4659-4f5b-b284-4bde7b3d0d06",
   "metadata": {
    "tags": []
   },
   "outputs": [],
   "source": [
    "import json\n",
    "\n",
    "with open('./self_client.json') as client_info, open('./portals_info.json') as portals_info, open('./refresh_tokens.json') as tokens_file:\n",
    "    client_app_data = json.load(client_info)\n",
    "    zoho_portals_data = json.load(portals_info)\n",
    "    tokens_dict = json.load(tokens_file)"
   ]
  },
  {
   "cell_type": "code",
   "execution_count": 13,
   "id": "cee6da2c-5de0-4a7d-bd40-dcfcc9d3174d",
   "metadata": {
    "tags": []
   },
   "outputs": [
    {
     "data": {
      "text/plain": [
       "{'access_token': '1000.24cfb45cb5387d6c676fd1899f147761.dd2af59bfbd24524d89d791a075c2b9e',\n",
       " 'refresh_token': '1000.aab10b8c97d28b2d0d03e428832ca1ec.2253b93d852f8458a154989ce5a497bc',\n",
       " 'api_domain': 'https://www.zohoapis.com',\n",
       " 'token_type': 'Bearer',\n",
       " 'expires_in': 3600}"
      ]
     },
     "execution_count": 13,
     "metadata": {},
     "output_type": "execute_result"
    }
   ],
   "source": [
    "tokens_dict"
   ]
  },
  {
   "cell_type": "code",
   "execution_count": null,
   "id": "06246a17-b2e4-4c72-a595-f91528cbd09f",
   "metadata": {},
   "outputs": [],
   "source": []
  }
 ],
 "metadata": {
  "kernelspec": {
   "display_name": "Python 3 (ipykernel)",
   "language": "python",
   "name": "python3"
  },
  "language_info": {
   "codemirror_mode": {
    "name": "ipython",
    "version": 3
   },
   "file_extension": ".py",
   "mimetype": "text/x-python",
   "name": "python",
   "nbconvert_exporter": "python",
   "pygments_lexer": "ipython3",
   "version": "3.11.3"
  }
 },
 "nbformat": 4,
 "nbformat_minor": 5
}
