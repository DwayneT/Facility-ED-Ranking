{
 "cells": [
  {
   "cell_type": "markdown",
   "id": "27c9b6d1-52dc-48e3-85ad-486f89fe1837",
   "metadata": {},
   "source": [
    "# Zoho API orchestration"
   ]
  },
  {
   "cell_type": "code",
   "execution_count": null,
   "id": "5a422d42-e5ac-42e7-b61a-4ed310d51051",
   "metadata": {},
   "outputs": [],
   "source": [
    "import requests\n",
    "import json\n",
    "from IPython.display import JSON\n",
    "from datetime import datetime\n",
    "import pandas as pd\n",
    "from difflib import get_close_matches"
   ]
  },
  {
   "cell_type": "code",
   "execution_count": null,
   "id": "f91e4bb6-e7b7-4860-8817-7b9e6d813d64",
   "metadata": {
    "tags": []
   },
   "outputs": [],
   "source": [
    "with open('./data/self_client.json') as client_info, open('./data/portals_info.json') as portals_info, open('./data/refresh_tokens.json') as tokens_file:\n",
    "    client_app_data = json.load(client_info)\n",
    "    zoho_portals_data = json.load(portals_info)\n",
    "    tokens_dict = json.load(tokens_file)"
   ]
  },
  {
   "cell_type": "code",
   "execution_count": null,
   "id": "b40a8af4-79ae-41c1-99f2-1725b5d8f46e",
   "metadata": {},
   "outputs": [],
   "source": [
    "TOKEN_URI = 'https://accounts.zoho.com/oauth/v2/token'\n",
    "PROJECTS_API_URI = f'https://projectsapi.zoho.com/restapi/portal/{zoho_portals_data[\"portal_id\"]}/projects/'\n",
    "BOOKS_API_URI = 'https://www.zohoapis.com/books/v3'\n",
    "CRM_APU_URI = 'https://www.zohoapis.com/crm/v4'"
   ]
  },
  {
   "cell_type": "code",
   "execution_count": null,
   "id": "a2e19b0f-3c56-420e-8ce1-38ea63f5b306",
   "metadata": {},
   "outputs": [],
   "source": [
    "zoho_apps_api_sessions = tokens_dict['tokens'].copy()\n",
    "\n",
    "refresh_payload = {\n",
    "    'grant_type':'refresh_token',\n",
    "    'client_id':client_app_data['client_id'],\n",
    "    'client_secret':client_app_data['client_secret']\n",
    "}\n",
    "\n",
    "for scope, refresh_token in tokens_dict['tokens'].items():\n",
    "    refresh_payload['refresh_token'] = refresh_token\n",
    "    refresh_response = requests.post(TOKEN_URI, data=refresh_payload)\n",
    "    print(scope, refresh_response)\n",
    "    \n",
    "    # Create app specific session\n",
    "    s = requests.session()\n",
    "    s.headers = {\n",
    "        'Authorization':f'Bearer {refresh_response.json()[\"access_token\"]}'\n",
    "    }\n",
    "    # Store in sessions dict\n",
    "    zoho_apps_api_sessions[scope] = s"
   ]
  },
  {
   "cell_type": "markdown",
   "id": "a0c38fc1-b766-4f82-b841-972309890794",
   "metadata": {
    "tags": []
   },
   "source": [
    "# Requests"
   ]
  },
  {
   "cell_type": "markdown",
   "id": "2b5b1a19-fcfa-4908-a165-688e68d11e31",
   "metadata": {
    "tags": []
   },
   "source": [
    "## POST"
   ]
  },
  {
   "cell_type": "code",
   "execution_count": null,
   "id": "b97b0933-1456-43bc-8640-e618812f5871",
   "metadata": {},
   "outputs": [],
   "source": [
    "create_project_uri = get_projects"
   ]
  },
  {
   "cell_type": "code",
   "execution_count": null,
   "id": "66c11f2a-5e4c-417d-87d9-760c1a5b0665",
   "metadata": {},
   "outputs": [],
   "source": [
    "create_proj_params = {\n",
    "    'name':'Test project - generated from Vittorio via API',\n",
    "    'layout_id':'2072013000000571041'\n",
    "}"
   ]
  },
  {
   "cell_type": "code",
   "execution_count": null,
   "id": "b945eca9-4755-4b45-ad7a-c31946be0445",
   "metadata": {},
   "outputs": [],
   "source": [
    "create_project_response = s.post(PROJECTS_API_URI + create_project_uri, data=create_proj_params)"
   ]
  },
  {
   "cell_type": "code",
   "execution_count": null,
   "id": "e5c1ffc1-923a-4d39-8f22-ac4bc9647767",
   "metadata": {},
   "outputs": [],
   "source": [
    "create_prj_resp = json.loads(create_project_response.content.decode())"
   ]
  },
  {
   "cell_type": "code",
   "execution_count": null,
   "id": "d57d2b80-d00d-4ead-958c-76c13f8b5fe0",
   "metadata": {},
   "outputs": [],
   "source": [
    "JSON(create_prj_resp)"
   ]
  },
  {
   "cell_type": "markdown",
   "id": "2362e2c8-c80b-44a3-81ba-436243ad1afa",
   "metadata": {
    "tags": []
   },
   "source": [
    "## GET"
   ]
  },
  {
   "cell_type": "markdown",
   "id": "ddb7a9d6-0e9d-4591-8067-413e80ba5c26",
   "metadata": {
    "tags": []
   },
   "source": [
    "### Flexible get request"
   ]
  },
  {
   "cell_type": "code",
   "execution_count": null,
   "id": "431cd469-9d2b-4ae6-9f14-5357524135da",
   "metadata": {},
   "outputs": [],
   "source": [
    "s = zoho_apps_api_sessions['projects_tasks_read']\n",
    "get_req = PROJECTS_API_URI + '2072013000000405095/tasks/'"
   ]
  },
  {
   "cell_type": "code",
   "execution_count": null,
   "id": "197ed032-7ba5-4f52-b2f3-9b2724178648",
   "metadata": {},
   "outputs": [],
   "source": [
    "get_req"
   ]
  },
  {
   "cell_type": "code",
   "execution_count": null,
   "id": "45f9716d-70ee-4110-a9b9-50cea7d8f46d",
   "metadata": {},
   "outputs": [],
   "source": [
    "get_resp = s.get(get_req)"
   ]
  },
  {
   "cell_type": "code",
   "execution_count": null,
   "id": "3eae5547-ec40-4d32-bdf0-be5363e789be",
   "metadata": {},
   "outputs": [],
   "source": [
    "get_resp.content"
   ]
  },
  {
   "cell_type": "code",
   "execution_count": null,
   "id": "e9e9bd12-476c-414b-9636-c6aa1101354f",
   "metadata": {},
   "outputs": [],
   "source": [
    "JSON(get_resp.json())"
   ]
  },
  {
   "cell_type": "code",
   "execution_count": null,
   "id": "13ed9f77-0802-4c0b-9f6b-6a56f84774bb",
   "metadata": {},
   "outputs": [],
   "source": [
    "tasks_json = get_resp.json()"
   ]
  },
  {
   "cell_type": "code",
   "execution_count": null,
   "id": "2bca58a6-d05c-4631-9410-cff0fb38e772",
   "metadata": {},
   "outputs": [],
   "source": [
    "for task in tasks_json['tasks']:\n",
    "    print(task.get('completed'))"
   ]
  },
  {
   "cell_type": "code",
   "execution_count": null,
   "id": "3dc110e8-ab8e-4abf-9986-8dc88759711c",
   "metadata": {},
   "outputs": [],
   "source": [
    "JSON(tasks_json)"
   ]
  },
  {
   "cell_type": "markdown",
   "id": "4e5bfd3c-e99b-48d8-8321-d56f432b0bd1",
   "metadata": {
    "tags": []
   },
   "source": [
    "### Get Projects list"
   ]
  },
  {
   "cell_type": "code",
   "execution_count": null,
   "id": "0b912c5b-34d1-457d-88b3-63985622cc96",
   "metadata": {},
   "outputs": [],
   "source": [
    "s = zoho_apps_api_sessions['projects_all']\n",
    "projects = []\n",
    "records_per_page = 50\n",
    "retrieved_projects = []\n",
    "starting_round = True\n",
    "i = 0\n",
    "\n",
    "while((len(retrieved_projects) == records_per_page) | starting_round):\n",
    "    starting_round = False\n",
    "    retrieve_response = s.get(PROJECTS_API_URI, params={'index':i, 'range':records_per_page, 'status':'active'})\n",
    "    print(retrieve_response)\n",
    "    retrieved_projects = retrieve_response.json()['projects']\n",
    "    projects.extend(retrieved_projects)\n",
    "    i+=records_per_page"
   ]
  },
  {
   "cell_type": "code",
   "execution_count": null,
   "id": "f08a3961-e574-4bf4-b52a-47b512b69a0a",
   "metadata": {},
   "outputs": [],
   "source": [
    "JSON(projects)"
   ]
  },
  {
   "cell_type": "code",
   "execution_count": null,
   "id": "299c065c-a491-436c-816b-8cc4ce1ec099",
   "metadata": {},
   "outputs": [],
   "source": [
    "len(projects)"
   ]
  },
  {
   "cell_type": "markdown",
   "id": "9a239530-eefb-4143-8446-3eff08d65bad",
   "metadata": {},
   "source": [
    "#### Manipulation from project list"
   ]
  },
  {
   "cell_type": "code",
   "execution_count": null,
   "id": "f8c5bf55-0ac1-45fc-97cc-53a7c6a8b92f",
   "metadata": {},
   "outputs": [],
   "source": [
    "api_desc_snip = 'imported via API'"
   ]
  },
  {
   "cell_type": "code",
   "execution_count": null,
   "id": "588e21dc-3868-4d8f-a185-1ab85040df18",
   "metadata": {},
   "outputs": [],
   "source": [
    "api_projects = []\n",
    "for pr in projects:\n",
    "    if api_desc_snip in pr.get('description'):\n",
    "        api_projects.append(pr.get('id'))"
   ]
  },
  {
   "cell_type": "code",
   "execution_count": null,
   "id": "075f53cf-50ac-4770-99af-0c0590114c13",
   "metadata": {},
   "outputs": [],
   "source": [
    "projects[0]['name']"
   ]
  },
  {
   "cell_type": "code",
   "execution_count": null,
   "id": "cc318cdf-7bfb-4c9b-bf5e-196fd68a7974",
   "metadata": {},
   "outputs": [],
   "source": [
    "webinar_ids = [prj['id'] for prj in projects if 'webinar' in prj['name'].lower()]"
   ]
  },
  {
   "cell_type": "markdown",
   "id": "4dbc7d6d-b135-4e71-89c9-996dc7048dc9",
   "metadata": {
    "jp-MarkdownHeadingCollapsed": true,
    "tags": []
   },
   "source": [
    "## Delete"
   ]
  },
  {
   "cell_type": "code",
   "execution_count": null,
   "id": "11f2bad8-22d9-4667-9103-b9350b2d183c",
   "metadata": {},
   "outputs": [],
   "source": [
    "for to_delete_id in api_projects:\n",
    "    delete_r = s.delete(PROJECTS_API_URI + f'/restapi/portal/{zoho_portals_data[\"portal_id\"]}/projects/{to_delete_id}/')\n",
    "    print(delete_r)"
   ]
  },
  {
   "cell_type": "code",
   "execution_count": null,
   "id": "fb4871d1-3764-4fe7-8e9f-53991a7b525f",
   "metadata": {},
   "outputs": [],
   "source": [
    "delete_r.json()"
   ]
  },
  {
   "cell_type": "markdown",
   "id": "1c4177ff-4968-4bf2-8b45-741af7a2b65b",
   "metadata": {
    "tags": []
   },
   "source": [
    "## Update"
   ]
  },
  {
   "cell_type": "code",
   "execution_count": null,
   "id": "babbc2fa-98e2-4ab3-92fb-a795ba91a90b",
   "metadata": {},
   "outputs": [],
   "source": [
    "def update_uri(prj_id):\n",
    "    return PROJECTS_API_URI + str(prj_id) + '/'"
   ]
  },
  {
   "cell_type": "markdown",
   "id": "d3b326f3-4fb3-43f2-8ec6-b632dca213e9",
   "metadata": {},
   "source": [
    "## add CRM account ID"
   ]
  },
  {
   "cell_type": "code",
   "execution_count": null,
   "id": "d57ad468-5878-4348-9f92-f97682f08f6e",
   "metadata": {},
   "outputs": [],
   "source": [
    "s = zoho_apps_api_sessions['crm_accounts_read']"
   ]
  },
  {
   "cell_type": "code",
   "execution_count": null,
   "id": "ee1e239e-dc7e-488b-9dac-0ea7ecdc9663",
   "metadata": {},
   "outputs": [],
   "source": [
    "def get_accounts(page_token=None):\n",
    "    params = {'fields':'Account_Name',\n",
    "             'page_token':page_token}\n",
    "    return s.get(CRM_APU_URI + '/Accounts', params=params)"
   ]
  },
  {
   "cell_type": "code",
   "execution_count": null,
   "id": "796c5563-ab99-47de-98be-b265bdb0a8cd",
   "metadata": {},
   "outputs": [],
   "source": [
    "crm_accounts = []\n",
    "\n",
    "get_crm_accounts_r = get_accounts()\n",
    "crm_acc_r_content = get_crm_accounts_r.json()\n",
    "crm_accounts.extend(crm_acc_r_content['data'])\n",
    "next_page_token = crm_acc_r_content.get('info').get('next_page_token')\n",
    "\n",
    "while(next_page_token):\n",
    "    get_crm_accounts_r = get_accounts(next_page_token)\n",
    "    crm_acc_r_content = get_crm_accounts_r.json()\n",
    "    crm_accounts.extend(crm_acc_r_content['data'])\n",
    "    next_page_token = crm_acc_r_content.get('next_page_token')"
   ]
  },
  {
   "cell_type": "code",
   "execution_count": null,
   "id": "d1c53d18-a52e-42cc-b970-a59581c3f80a",
   "metadata": {},
   "outputs": [],
   "source": [
    "crm_accs_df = pd.DataFrame.from_records(crm_accounts).set_index('Account_Name')"
   ]
  },
  {
   "cell_type": "code",
   "execution_count": null,
   "id": "7531c44c-3182-4ae1-bbb2-708e0ac3076d",
   "metadata": {},
   "outputs": [],
   "source": [
    "for prj in projects:\n",
    "    if prj['custom_fields'][0].get('Account')"
   ]
  },
  {
   "cell_type": "code",
   "execution_count": null,
   "id": "5260d7d5-4965-4e66-bac1-d5771e37892e",
   "metadata": {},
   "outputs": [],
   "source": [
    "projects_df = pd.DataFrame([(prj['id'], prj['custom_fields'][0].get('Account')) for prj in projects], columns=['prj_id','acc_name'])"
   ]
  },
  {
   "cell_type": "code",
   "execution_count": null,
   "id": "4b3686e0-ad63-4e3c-98f8-526b3b92c680",
   "metadata": {},
   "outputs": [],
   "source": [
    "projects_df['acc_id'] = projects_df.acc_name.apply(lambda x: crm_accs_df.loc[get_close_matches(x, crm_accs_df.index)[0]])"
   ]
  },
  {
   "cell_type": "code",
   "execution_count": null,
   "id": "8ab69583-4237-43dd-a2dd-2c1288217c97",
   "metadata": {},
   "outputs": [],
   "source": [
    "s = zoho_apps_api_sessions['projects_all']\n",
    "for i, row in projects_df.iterrows():\n",
    "    r = s.post(update_uri(row.prj_id), data={\n",
    "        'UDF_CHAR2':row.acc_id\n",
    "    })\n",
    "    print(r)\n",
    "    time.sleep(1.5)"
   ]
  },
  {
   "cell_type": "markdown",
   "id": "b8891d40-6b58-44e2-85fc-42cca377a732",
   "metadata": {
    "tags": []
   },
   "source": [
    "## training templates layouts"
   ]
  },
  {
   "cell_type": "code",
   "execution_count": null,
   "id": "765d8660-4838-4a9e-b814-96fd7b9efecd",
   "metadata": {},
   "outputs": [],
   "source": [
    "trainig_projects = [proj['id'] for proj in response_dict['projects'] if 'training' in proj['name'].lower()]"
   ]
  },
  {
   "cell_type": "code",
   "execution_count": null,
   "id": "ecf106a7-622f-49bd-880b-2e78c433d1e3",
   "metadata": {},
   "outputs": [],
   "source": [
    "layout_id = '2072013000000571041'"
   ]
  },
  {
   "cell_type": "code",
   "execution_count": null,
   "id": "1a0089e3-5679-4344-967d-b8088d0d247c",
   "metadata": {},
   "outputs": [],
   "source": [
    "for prj_id in webinar_ids:\n",
    "    update_template_r = s.post(update_uri(prj_id), data={'layout_id':layout_id})\n",
    "    print(update_template_r)"
   ]
  },
  {
   "cell_type": "code",
   "execution_count": null,
   "id": "4951bdee-c2d7-464c-8640-ca849e53d513",
   "metadata": {},
   "outputs": [],
   "source": [
    "target_prj = '2072013000000480639'\n",
    "update_template_r = s.post(update_uri(target_prj), data={'layout_id':layout_id})"
   ]
  },
  {
   "cell_type": "code",
   "execution_count": null,
   "id": "91f6b67e-81ca-4eec-a8c3-508d98da7931",
   "metadata": {},
   "outputs": [],
   "source": [
    "update_uri(target_prj)"
   ]
  },
  {
   "cell_type": "code",
   "execution_count": null,
   "id": "6cd688a7-7af2-4085-82fa-133571b11bb4",
   "metadata": {},
   "outputs": [],
   "source": [
    "update_template_r.json()"
   ]
  },
  {
   "cell_type": "markdown",
   "id": "a5a86cf5-9c63-4d69-9e4a-ddc21df8a6a2",
   "metadata": {
    "jp-MarkdownHeadingCollapsed": true,
    "tags": []
   },
   "source": [
    "## training types"
   ]
  },
  {
   "cell_type": "code",
   "execution_count": null,
   "id": "fb431ea3-a9fb-4ef1-8f1a-223035bb5c91",
   "metadata": {},
   "outputs": [],
   "source": [
    "training_types = ['Triage', 'TECC', 'ECG', 'POCUS']"
   ]
  },
  {
   "cell_type": "code",
   "execution_count": null,
   "id": "4f1f5553-9316-4b15-b540-4b23321f07bb",
   "metadata": {},
   "outputs": [],
   "source": [
    "getprojects_data = response_dict['projects']"
   ]
  },
  {
   "cell_type": "code",
   "execution_count": null,
   "id": "c2c8c3ba-91b7-4549-a566-fb048f1e3ca6",
   "metadata": {},
   "outputs": [],
   "source": [
    "[(proj['name'], proj['id']) for proj in getprojects_data if any([train_type.lower() in proj['name'].lower() for train_type in ])]"
   ]
  },
  {
   "cell_type": "code",
   "execution_count": null,
   "id": "eea9855e-f9cf-40ac-879c-c27d82aeca5b",
   "metadata": {},
   "outputs": [],
   "source": [
    "for proj in getprojects_data:\n",
    "    proj_name_contains_training_type = any([training_type.lower() in proj['name'].lower() for training_type in training_types])\n",
    "    if (proj_name_contains_training_type): print(proj['name'])"
   ]
  },
  {
   "cell_type": "markdown",
   "id": "45416a4c-1a6b-47cf-8850-ca170894ca3e",
   "metadata": {
    "jp-MarkdownHeadingCollapsed": true,
    "tags": []
   },
   "source": [
    "## archive old projects"
   ]
  },
  {
   "cell_type": "code",
   "execution_count": null,
   "id": "62becc9c-05e6-4493-833f-f2310c039e3e",
   "metadata": {},
   "outputs": [],
   "source": [
    "import time"
   ]
  },
  {
   "cell_type": "code",
   "execution_count": null,
   "id": "5c572131-88ba-4a62-b78d-5bfc6667136e",
   "metadata": {},
   "outputs": [],
   "source": [
    "for prj_id in [prj['id'] for prj in projects]:\n",
    "    update_r = s.post(update_uri(prj_id), data={'status':'active'})\n",
    "    print(update_r)\n",
    "    time.sleep(1)"
   ]
  },
  {
   "cell_type": "markdown",
   "id": "d79f30fd-7bf7-4c41-84c9-f812a7dedb08",
   "metadata": {
    "tags": []
   },
   "source": [
    "# Import old projects"
   ]
  },
  {
   "cell_type": "code",
   "execution_count": null,
   "id": "2c435465-7b40-43d8-b810-f77c7e8f7c7b",
   "metadata": {},
   "outputs": [],
   "source": [
    "import pandas as pd\n",
    "import os\n",
    "import sys\n",
    "import numpy as np\n",
    "sys.path.append(os.environ['pythonemkfdata'])\n",
    "import dataload\n",
    "import time\n",
    "\n",
    "dataframes = dataload.load_emkf_data()"
   ]
  },
  {
   "cell_type": "markdown",
   "id": "62e20d66-ee2c-494d-a884-5bd3ff46b05f",
   "metadata": {},
   "source": [
    "## Import old trainings"
   ]
  },
  {
   "cell_type": "markdown",
   "id": "4c11bbab-a8db-4b8a-b9f3-a4263d4af65d",
   "metadata": {},
   "source": [
    "### Triage, tecc, ecg"
   ]
  },
  {
   "cell_type": "code",
   "execution_count": null,
   "id": "3c99bbd4-5255-4323-af99-a976e3c9c681",
   "metadata": {},
   "outputs": [],
   "source": [
    "gsheet_trainings = dataframes['kd_google_drive']\n",
    "gsheet_trainings.date = pd.to_datetime(gsheet_trainings.date, dayfirst=True)\n",
    "non_zoho_trainings = gsheet_trainings.query('date < \"2023-05-12\"')"
   ]
  },
  {
   "cell_type": "code",
   "execution_count": null,
   "id": "0aa2c554-c233-4d83-ab17-e3dca8f130aa",
   "metadata": {},
   "outputs": [],
   "source": [
    "crm_data = dataframes['crm_export'][['Account ID', 'Account Name', 'Account Type']]"
   ]
  },
  {
   "cell_type": "code",
   "execution_count": null,
   "id": "6d65b7fa-59e4-40ad-b142-b311252c1c34",
   "metadata": {},
   "outputs": [],
   "source": [
    "crm_hospitals = crm_data.query('`Account Type`.str.contains(\"Hospital|Hosptial\")')"
   ]
  },
  {
   "cell_type": "code",
   "execution_count": null,
   "id": "09b9e052-e07e-4cfe-a511-c7a71be10168",
   "metadata": {},
   "outputs": [],
   "source": [
    "non_zoho_trainings.assign(crm_account_name = non_zoho_trainings.facility_name.apply(lambda x: get_close_matches(x, crm_hospitals['Account Name'])[0]))"
   ]
  },
  {
   "cell_type": "code",
   "execution_count": null,
   "id": "0f6ad5d4-1d2a-47be-a95b-128522cb9dcc",
   "metadata": {},
   "outputs": [],
   "source": [
    "trainings_with_crm_info = pd.merge(non_zoho_trainings, crm_hospitals, left_on='crm_account_name', right_on='Account Name')\n",
    "trainings_with_crm_info_slim = trainings_with_crm_info.drop(['Account Name', 'Account Type'], axis=1)\n",
    "trainings_with_crm_info_slim['Account ID'] = trainings_with_crm_info_slim['Account ID'].str.replace('zcrm_', '')"
   ]
  },
  {
   "cell_type": "code",
   "execution_count": null,
   "id": "c51b325a-54f8-43f8-965b-a781d5f8e0b5",
   "metadata": {},
   "outputs": [],
   "source": [
    "trainings_dict = dict(zip([ttype.lower() for ttype in training_types], training_types))"
   ]
  },
  {
   "cell_type": "code",
   "execution_count": null,
   "id": "e4d232b5-e631-4f9a-a760-342d0b891586",
   "metadata": {},
   "outputs": [],
   "source": [
    "to_add_trainings = trainings_with_crm_info_slim"
   ]
  },
  {
   "cell_type": "code",
   "execution_count": null,
   "id": "8c2b5b27-2d8f-4463-9a6d-6a1e99f6be20",
   "metadata": {},
   "outputs": [],
   "source": [
    "to_add_trainings"
   ]
  },
  {
   "cell_type": "markdown",
   "id": "4e85e809-8453-4fe5-872c-a3244e48e927",
   "metadata": {
    "tags": []
   },
   "source": [
    "### Webinars"
   ]
  },
  {
   "cell_type": "code",
   "execution_count": null,
   "id": "784e9eb2-6526-4b49-9396-2047e7d0f3af",
   "metadata": {},
   "outputs": [],
   "source": [
    "pd.to_datetime(dataframes['webinar_participants'].Date, dayfirst=True).nunique()"
   ]
  },
  {
   "cell_type": "code",
   "execution_count": null,
   "id": "362a6557-9f8e-47c1-a390-3cb3d51b164a",
   "metadata": {},
   "outputs": [],
   "source": [
    "webinar_df = dataframes['webinar_participants']\n",
    "webinar_participants = webinar_df.groupby('Date')['Presenter - 1'].count().rename('num_participants').reset_index()"
   ]
  },
  {
   "cell_type": "code",
   "execution_count": null,
   "id": "76a1fb0f-91b2-4771-b304-86e8bb6216b0",
   "metadata": {},
   "outputs": [],
   "source": [
    "webinar_participants['date'] = pd.to_datetime(webinar_participants.Date, dayfirst=True)"
   ]
  },
  {
   "cell_type": "code",
   "execution_count": null,
   "id": "8adf4ff4-fcc3-412a-a1a8-37d56279f5f0",
   "metadata": {},
   "outputs": [],
   "source": [
    "for i, row in webinar_participants.iterrows():\n",
    "    print(i)\n",
    "    break"
   ]
  },
  {
   "cell_type": "markdown",
   "id": "6f21c56e-5570-4358-abb9-68b3861e82fe",
   "metadata": {},
   "source": [
    "### Actual importing"
   ]
  },
  {
   "cell_type": "code",
   "execution_count": null,
   "id": "00b2ad98-5f3a-4286-b667-1978e6e91416",
   "metadata": {},
   "outputs": [],
   "source": [
    "projects_session = zoho_apps_api_sessions['projects_all']"
   ]
  },
  {
   "cell_type": "code",
   "execution_count": null,
   "id": "75a93c6c-def5-46dd-ae67-32cde98938ba",
   "metadata": {},
   "outputs": [],
   "source": [
    "for i, row in webinar_participants.iterrows():\n",
    "    project_date = row.date.strftime('%m-%d-%Y')\n",
    "    payload = {\n",
    "        'name':'Webinar #' + str(i),\n",
    "        'description':'This webinar has been imported via API by Vittorio Rossi',\n",
    "        'layout_id':'2072013000000571041',\n",
    "        'group_id':'2072013000000312007',\n",
    "        'start_date':project_date,\n",
    "        'end_date':project_date,\n",
    "        'public':'yes',\n",
    "        'UDF_CHAR1':'Knowledge and Development',\n",
    "        'UDF_LONG1':row.num_participants,\n",
    "        'UDF_CHAR3':'Webinar',\n",
    "        # 'UDF_CHAR3':trainings_dict[get_close_matches(row.course_type.lower(), trainings_dict.keys())[0]],\n",
    "        # 'UDF_TEXT1':f'{{\"module_id\":\"{row[\"Account ID\"]}\",\"value\":\"{row.crm_account_name}\"}}'\n",
    "        'UDF_TEXT1':f'{{\"module_id\":\"5621728000001081001\",\"value\":\"Emergency Medicine Kenya Foundation\"}}'\n",
    "    }\n",
    "    create_project_response = projects_session.post(PROJECTS_API_URI, data=payload)\n",
    "    try:\n",
    "        proj_json = create_project_response.json()['projects'][0]\n",
    "        proj_id = proj_json['id']\n",
    "        proj_name = proj_json['name']\n",
    "        print(i, \"Created proj successfully\", proj_name)\n",
    "        \n",
    "        update_project_via_id_uri = PROJECTS_API_URI + str(proj_id) + '/'\n",
    "        update_proj_response = projects_session.post(update_project_via_id_uri, data={'custom_status':'2072013000000020116'})\n",
    "        time.sleep(.3)\n",
    "    except KeyError:\n",
    "        print('Failed to creat proj')"
   ]
  },
  {
   "cell_type": "code",
   "execution_count": null,
   "id": "e0e7ac28-8093-42f5-81e9-5c90fa3ebff7",
   "metadata": {},
   "outputs": [],
   "source": [
    "JSON(create_project_response.json())"
   ]
  }
 ],
 "metadata": {
  "kernelspec": {
   "display_name": "Python 3 (ipykernel)",
   "language": "python",
   "name": "python3"
  },
  "language_info": {
   "codemirror_mode": {
    "name": "ipython",
    "version": 3
   },
   "file_extension": ".py",
   "mimetype": "text/x-python",
   "name": "python",
   "nbconvert_exporter": "python",
   "pygments_lexer": "ipython3",
   "version": "3.11.3"
  }
 },
 "nbformat": 4,
 "nbformat_minor": 5
}
