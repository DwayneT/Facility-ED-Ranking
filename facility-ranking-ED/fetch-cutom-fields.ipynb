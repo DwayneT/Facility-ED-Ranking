{
 "cells": [
  {
   "cell_type": "code",
   "execution_count": 1,
   "id": "084dbf44-f10e-4ab8-8313-7175b09a63a6",
   "metadata": {
    "tags": []
   },
   "outputs": [
    {
     "name": "stdout",
     "output_type": "stream",
     "text": [
      "Error: 401 - {\"code\":\"INVALID_TOKEN\",\"details\":{},\"message\":\"invalid oauth token\",\"status\":\"error\"}\n",
      "\n"
     ]
    }
   ],
   "source": [
    "import requests\n",
    "\n",
    "# Zoho CRM API endpoint\n",
    "api_url = 'https://www.zohoapis.com/crm/v2/settings/fields'\n",
    "\n",
    "# Zoho CRM API access token\n",
    "access_token = '<your-access-token>'\n",
    "\n",
    "# Zoho module name\n",
    "module_name = 'Leads'\n",
    "\n",
    "# Set headers with access token\n",
    "headers = {\n",
    "    'Authorization': f'Zoho-oauthtoken {access_token}',\n",
    "    'Content-Type': 'application/json'\n",
    "}\n",
    "\n",
    "# Set query parameters to filter fields\n",
    "params = {\n",
    "    'module': module_name\n",
    "}\n",
    "\n",
    "# Send GET request to retrieve fields\n",
    "response = requests.get(api_url, headers=headers, params=params)\n",
    "\n",
    "# Check if the request was successful\n",
    "if response.status_code == 200:\n",
    "    data = response.json()\n",
    "    fields = data['fields']\n",
    "\n",
    "    # Search for custom fields with the specified API name\n",
    "    custom_field_ids = []\n",
    "    for field in fields:\n",
    "        if field['api_name'].startswith('UDF_'):\n",
    "            custom_field_ids.append(field['id'])\n",
    "\n",
    "    if custom_field_ids:\n",
    "        print(f\"Custom Field IDs for 'UDF_CHAR4': {', '.join(custom_field_ids)}\")\n",
    "    else:\n",
    "        print(\"No custom fields with the name 'UDF_CHAR4' found\")\n",
    "\n",
    "else:\n",
    "    print(f\"Error: {response.status_code} - {response.text}\")\n"
   ]
  }
 ],
 "metadata": {
  "kernelspec": {
   "display_name": "Python 3 (ipykernel)",
   "language": "python",
   "name": "python3"
  },
  "language_info": {
   "codemirror_mode": {
    "name": "ipython",
    "version": 3
   },
   "file_extension": ".py",
   "mimetype": "text/x-python",
   "name": "python",
   "nbconvert_exporter": "python",
   "pygments_lexer": "ipython3",
   "version": "3.11.3"
  }
 },
 "nbformat": 4,
 "nbformat_minor": 5
}
